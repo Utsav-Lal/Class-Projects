{
  "cells": [
    {
      "cell_type": "code",
      "execution_count": null,
      "id": "a37776ca",
      "metadata": {
        "colab": {
          "base_uri": "https://localhost:8080/"
        },
        "id": "a37776ca",
        "outputId": "07bb2d02-0154-4d2e-f007-58a38eaf2473"
      },
      "outputs": [
        {
          "output_type": "stream",
          "name": "stdout",
          "text": [
            "Mounted at /content/drive\n",
            "/content/drive/My Drive/Classroom/Machine Learning 2024-25 TUE + FRI Morn2/assignment2/cs231n/datasets\n",
            "/content/drive/My Drive/Classroom/Machine Learning 2024-25 TUE + FRI Morn2/assignment2\n"
          ]
        }
      ],
      "source": [
        "# This mounts your Google Drive to the Colab VM.\n",
        "from google.colab import drive\n",
        "drive.mount('/content/drive')\n",
        "\n",
        "# TODO: Enter the foldername in your Drive where you have saved the unzipped\n",
        "# assignment folder, e.g. 'cs231n/assignments/assignment2/'\n",
        "FOLDERNAME = \"Classroom/Machine Learning 2024-25 TUE + FRI Morn2/assignment2\"\n",
        "assert FOLDERNAME is not None, \"[!] Enter the foldername.\"\n",
        "\n",
        "# Now that we've mounted your Drive, this ensures that\n",
        "# the Python interpreter of the Colab VM can load\n",
        "# python files from within it.\n",
        "import sys\n",
        "sys.path.append('/content/drive/My Drive/{}'.format(FOLDERNAME))\n",
        "\n",
        "# This downloads the CIFAR-10 dataset to your Drive\n",
        "# if it doesn't already exist.\n",
        "%cd /content/drive/My\\ Drive/$FOLDERNAME/cs231n/datasets/\n",
        "!bash get_datasets.sh\n",
        "%cd /content/drive/My\\ Drive/$FOLDERNAME"
      ]
    },
    {
      "cell_type": "markdown",
      "id": "ac30f3e5",
      "metadata": {
        "tags": [
          "pdf-title"
        ],
        "id": "ac30f3e5"
      },
      "source": [
        "# Introduction to PyTorch\n",
        "\n",
        "You've written a lot of code in this assignment to provide a whole host of neural network functionality. Dropout, Batch Norm, and 2D convolutions are some of the workhorses of deep learning in computer vision. You've also worked hard to make your code efficient and vectorized.\n",
        "\n",
        "For the last part of this assignment, though, we're going to leave behind your beautiful codebase and instead migrate to one of two popular deep learning frameworks: in this instance, PyTorch."
      ]
    },
    {
      "cell_type": "markdown",
      "id": "ef99f37e",
      "metadata": {
        "tags": [
          "pdf-ignore"
        ],
        "id": "ef99f37e"
      },
      "source": [
        "## Why do we use deep learning frameworks?\n",
        "\n",
        "* Our code will now run on GPUs! This will allow our models to train much faster. When using a framework like PyTorch you can harness the power of the GPU for your own custom neural network architectures without having to write CUDA code directly (which is beyond the scope of this class).\n",
        "* In this class, we want you to be ready to use one of these frameworks for your project so you can experiment more efficiently than if you were writing every feature you want to use by hand.\n",
        "* We want you to stand on the shoulders of giants! PyTorch is an excellent frameworks that will make your lives a lot easier, and now that you understand their guts, you are free to use them :)\n",
        "* Finally, we want you to be exposed to the sort of deep learning code you might run into in academia or industry.\n",
        "\n",
        "## What is PyTorch?\n",
        "\n",
        "PyTorch is a system for executing dynamic computational graphs over Tensor objects that behave similarly as numpy ndarray. It comes with a powerful automatic differentiation engine that removes the need for manual back-propagation.\n",
        "\n",
        "## How do I learn PyTorch?\n",
        "\n",
        "One of our former instructors, Justin Johnson, made an excellent [tutorial](https://github.com/jcjohnson/pytorch-examples) for PyTorch.\n",
        "\n",
        "You can also find the detailed [API doc](http://pytorch.org/docs/stable/index.html) here. If you have other questions that are not addressed by the API docs, the [PyTorch forum](https://discuss.pytorch.org/) is a much better place to ask than StackOverflow."
      ]
    },
    {
      "cell_type": "markdown",
      "id": "91372cc3",
      "metadata": {
        "id": "91372cc3"
      },
      "source": [
        "# Table of Contents\n",
        "\n",
        "This assignment has 5 parts. You will learn PyTorch on **three different levels of abstraction**, which will help you understand it better and prepare you for the final project.\n",
        "\n",
        "1. Part I, Preparation: we will use CIFAR-10 dataset.\n",
        "2. Part II, Barebones PyTorch: **Abstraction level 1**, we will work directly with the lowest-level PyTorch Tensors.\n",
        "3. Part III, PyTorch Module API: **Abstraction level 2**, we will use `nn.Module` to define arbitrary neural network architecture.\n",
        "4. Part IV, PyTorch Sequential API: **Abstraction level 3**, we will use `nn.Sequential` to define a linear feed-forward network very conveniently.\n",
        "5. Part V, CIFAR-10 open-ended challenge: please implement your own network to get as high accuracy as possible on CIFAR-10. You can experiment with any layer, optimizer, hyperparameters or other advanced features.\n",
        "\n",
        "Here is a table of comparison:\n",
        "\n",
        "| API           | Flexibility | Convenience |\n",
        "|---------------|-------------|-------------|\n",
        "| Barebone      | High        | Low         |\n",
        "| `nn.Module`     | High        | Medium      |\n",
        "| `nn.Sequential` | Low         | High        |"
      ]
    },
    {
      "cell_type": "markdown",
      "id": "6a2c49a1",
      "metadata": {
        "tags": [
          "pdf-ignore"
        ],
        "id": "6a2c49a1"
      },
      "source": [
        "# GPU\n",
        "\n",
        "You can manually switch to a GPU device on Colab by clicking `Runtime -> Change runtime type` and selecting `GPU` under `Hardware Accelerator`. You should do this before running the following cells to import packages, since the kernel gets restarted upon switching runtimes."
      ]
    },
    {
      "cell_type": "code",
      "execution_count": null,
      "id": "b6ee2096",
      "metadata": {
        "tags": [
          "pdf-ignore"
        ],
        "colab": {
          "base_uri": "https://localhost:8080/"
        },
        "id": "b6ee2096",
        "outputId": "5c13940d-e8da-4da3-b215-54d02a8e7ac1"
      },
      "outputs": [
        {
          "output_type": "stream",
          "name": "stdout",
          "text": [
            "using device: cuda\n"
          ]
        }
      ],
      "source": [
        "import torch\n",
        "import torch.nn as nn\n",
        "import torch.optim as optim\n",
        "from torch.utils.data import DataLoader\n",
        "from torch.utils.data import sampler\n",
        "\n",
        "import torchvision.datasets as dset\n",
        "import torchvision.transforms as T\n",
        "\n",
        "import numpy as np\n",
        "\n",
        "USE_GPU = True\n",
        "dtype = torch.float32 # We will be using float throughout this tutorial.\n",
        "\n",
        "if USE_GPU and torch.cuda.is_available():\n",
        "    device = torch.device('cuda')\n",
        "else:\n",
        "    device = torch.device('cpu')\n",
        "\n",
        "# Constant to control how frequently we print train loss.\n",
        "print_every = 100\n",
        "print('using device:', device)"
      ]
    },
    {
      "cell_type": "markdown",
      "id": "1e4561c3",
      "metadata": {
        "id": "1e4561c3"
      },
      "source": [
        "# Part I. Preparation\n",
        "\n",
        "Now, let's load the CIFAR-10 dataset. This might take a couple minutes the first time you do it, but the files should stay cached after that.\n",
        "\n",
        "In previous parts of the assignment we had to write our own code to download the CIFAR-10 dataset, preprocess it, and iterate through it in minibatches; PyTorch provides convenient tools to automate this process for us."
      ]
    },
    {
      "cell_type": "code",
      "execution_count": null,
      "id": "1996c4b6",
      "metadata": {
        "tags": [
          "pdf-ignore"
        ],
        "colab": {
          "base_uri": "https://localhost:8080/"
        },
        "id": "1996c4b6",
        "outputId": "4e2b058d-d25e-4344-e967-9e4176532208"
      },
      "outputs": [
        {
          "output_type": "stream",
          "name": "stdout",
          "text": [
            "Files already downloaded and verified\n",
            "Files already downloaded and verified\n",
            "Files already downloaded and verified\n"
          ]
        }
      ],
      "source": [
        "NUM_TRAIN = 49000\n",
        "\n",
        "# The torchvision.transforms package provides tools for preprocessing data\n",
        "# and for performing data augmentation; here we set up a transform to\n",
        "# preprocess the data by subtracting the mean RGB value and dividing by the\n",
        "# standard deviation of each RGB value; we've hardcoded the mean and std.\n",
        "transform = T.Compose([\n",
        "                T.ToTensor(),\n",
        "                T.Normalize((0.4914, 0.4822, 0.4465), (0.2023, 0.1994, 0.2010))\n",
        "            ])\n",
        "\n",
        "# We set up a Dataset object for each split (train / val / test); Datasets load\n",
        "# training examples one at a time, so we wrap each Dataset in a DataLoader which\n",
        "# iterates through the Dataset and forms minibatches. We divide the CIFAR-10\n",
        "# training set into train and val sets by passing a Sampler object to the\n",
        "# DataLoader telling how it should sample from the underlying Dataset.\n",
        "cifar10_train = dset.CIFAR10('./cs231n/datasets', train=True, download=True,\n",
        "                             transform=transform)\n",
        "loader_train = DataLoader(cifar10_train, batch_size=64,\n",
        "                          sampler=sampler.SubsetRandomSampler(range(NUM_TRAIN)))\n",
        "\n",
        "cifar10_val = dset.CIFAR10('./cs231n/datasets', train=True, download=True,\n",
        "                           transform=transform)\n",
        "loader_val = DataLoader(cifar10_val, batch_size=64,\n",
        "                        sampler=sampler.SubsetRandomSampler(range(NUM_TRAIN, 50000)))\n",
        "\n",
        "cifar10_test = dset.CIFAR10('./cs231n/datasets', train=False, download=True,\n",
        "                            transform=transform)\n",
        "loader_test = DataLoader(cifar10_test, batch_size=64)"
      ]
    },
    {
      "cell_type": "markdown",
      "id": "b6c26074",
      "metadata": {
        "id": "b6c26074"
      },
      "source": [
        "# Part II. Barebones PyTorch\n",
        "\n",
        "PyTorch ships with high-level APIs to help us define model architectures conveniently, which we will cover in Part II of this tutorial. In this section, we will start with the barebone PyTorch elements to understand the autograd engine better. After this exercise, you will come to appreciate the high-level model API more.\n",
        "\n",
        "We will start with a simple fully-connected ReLU network with two hidden layers and no biases for CIFAR classification.\n",
        "This implementation computes the forward pass using operations on PyTorch Tensors, and uses PyTorch autograd to compute gradients. It is important that you understand every line, because you will write a harder version after the example.\n",
        "\n",
        "When we create a PyTorch Tensor with `requires_grad=True`, then operations involving that Tensor will not just compute values; they will also build up a computational graph in the background, allowing us to easily backpropagate through the graph to compute gradients of some Tensors with respect to a downstream loss. Concretely if x is a Tensor with `x.requires_grad == True` then after backpropagation `x.grad` will be another Tensor holding the gradient of x with respect to the scalar loss at the end."
      ]
    },
    {
      "cell_type": "markdown",
      "id": "02032a57",
      "metadata": {
        "tags": [
          "pdf-ignore"
        ],
        "id": "02032a57"
      },
      "source": [
        "### PyTorch Tensors: Flatten Function\n",
        "A PyTorch Tensor is conceptionally similar to a numpy array: it is an n-dimensional grid of numbers, and like numpy PyTorch provides many functions to efficiently operate on Tensors. As a simple example, we provide a `flatten` function below which reshapes image data for use in a fully-connected neural network.\n",
        "\n",
        "Recall that image data is typically stored in a Tensor of shape N x C x H x W, where:\n",
        "\n",
        "* N is the number of datapoints\n",
        "* C is the number of channels\n",
        "* H is the height of the intermediate feature map in pixels\n",
        "* W is the height of the intermediate feature map in pixels\n",
        "\n",
        "This is the right way to represent the data when we are doing something like a 2D convolution, that needs spatial understanding of where the intermediate features are relative to each other. When we use fully connected affine layers to process the image, however, we want each datapoint to be represented by a single vector -- it's no longer useful to segregate the different channels, rows, and columns of the data. So, we use a \"flatten\" operation to collapse the `C x H x W` values per representation into a single long vector. The flatten function below first reads in the N, C, H, and W values from a given batch of data, and then returns a \"view\" of that data. \"View\" is analogous to numpy's \"reshape\" method: it reshapes x's dimensions to be N x ??, where ?? is allowed to be anything (in this case, it will be C x H x W, but we don't need to specify that explicitly)."
      ]
    },
    {
      "cell_type": "code",
      "execution_count": null,
      "id": "54ee9208",
      "metadata": {
        "tags": [
          "pdf-ignore-input"
        ],
        "colab": {
          "base_uri": "https://localhost:8080/"
        },
        "id": "54ee9208",
        "outputId": "1cf7b3a9-8918-458b-8ebd-8aa908c99d4d"
      },
      "outputs": [
        {
          "output_type": "stream",
          "name": "stdout",
          "text": [
            "Before flattening:  tensor([[[[ 0,  1],\n",
            "          [ 2,  3],\n",
            "          [ 4,  5]]],\n",
            "\n",
            "\n",
            "        [[[ 6,  7],\n",
            "          [ 8,  9],\n",
            "          [10, 11]]]])\n",
            "After flattening:  tensor([[ 0,  1,  2,  3,  4,  5],\n",
            "        [ 6,  7,  8,  9, 10, 11]])\n"
          ]
        }
      ],
      "source": [
        "def flatten(x):\n",
        "    N = x.shape[0] # read in N, C, H, W\n",
        "    return x.view(N, -1)  # \"flatten\" the C * H * W values into a single vector per image\n",
        "\n",
        "def test_flatten():\n",
        "    x = torch.arange(12).view(2, 1, 3, 2)\n",
        "    print('Before flattening: ', x)\n",
        "    print('After flattening: ', flatten(x))\n",
        "\n",
        "test_flatten()"
      ]
    },
    {
      "cell_type": "markdown",
      "id": "8d8b0aff",
      "metadata": {
        "tags": [
          "pdf-ignore"
        ],
        "id": "8d8b0aff"
      },
      "source": [
        "### Barebones PyTorch: Two-Layer Network\n",
        "\n",
        "Here we define a function `two_layer_fc` which performs the forward pass of a two-layer fully-connected ReLU network on a batch of image data. After defining the forward pass we check that it doesn't crash and that it produces outputs of the right shape by running zeros through the network.\n",
        "\n",
        "You don't have to write any code here, but it's important that you read and understand the implementation."
      ]
    },
    {
      "cell_type": "code",
      "execution_count": null,
      "id": "5b090c7b",
      "metadata": {
        "tags": [
          "pdf-ignore-input"
        ],
        "colab": {
          "base_uri": "https://localhost:8080/"
        },
        "id": "5b090c7b",
        "outputId": "5353b597-def9-42ea-8011-e274411b0375"
      },
      "outputs": [
        {
          "output_type": "stream",
          "name": "stdout",
          "text": [
            "torch.Size([64, 10])\n"
          ]
        }
      ],
      "source": [
        "import torch.nn.functional as F  # useful stateless functions\n",
        "\n",
        "def two_layer_fc(x, params):\n",
        "    \"\"\"\n",
        "    A fully-connected neural networks; the architecture is:\n",
        "    NN is fully connected -> ReLU -> fully connected layer.\n",
        "    Note that this function only defines the forward pass;\n",
        "    PyTorch will take care of the backward pass for us.\n",
        "\n",
        "    The input to the network will be a minibatch of data, of shape\n",
        "    (N, d1, ..., dM) where d1 * ... * dM = D. The hidden layer will have H units,\n",
        "    and the output layer will produce scores for C classes.\n",
        "\n",
        "    Inputs:\n",
        "    - x: A PyTorch Tensor of shape (N, d1, ..., dM) giving a minibatch of\n",
        "      input data.\n",
        "    - params: A list [w1, w2] of PyTorch Tensors giving weights for the network;\n",
        "      w1 has shape (D, H) and w2 has shape (H, C).\n",
        "\n",
        "    Returns:\n",
        "    - scores: A PyTorch Tensor of shape (N, C) giving classification scores for\n",
        "      the input data x.\n",
        "    \"\"\"\n",
        "    # first we flatten the image\n",
        "    x = flatten(x)  # shape: [batch_size, C x H x W]\n",
        "\n",
        "    w1, w2 = params\n",
        "\n",
        "    # Forward pass: compute predicted y using operations on Tensors. Since w1 and\n",
        "    # w2 have requires_grad=True, operations involving these Tensors will cause\n",
        "    # PyTorch to build a computational graph, allowing automatic computation of\n",
        "    # gradients. Since we are no longer implementing the backward pass by hand we\n",
        "    # don't need to keep references to intermediate values.\n",
        "    # you can also use `.clamp(min=0)`, equivalent to F.relu()\n",
        "    x = F.relu(x.mm(w1))\n",
        "    x = x.mm(w2)\n",
        "    return x\n",
        "\n",
        "\n",
        "def two_layer_fc_test():\n",
        "    hidden_layer_size = 42\n",
        "    x = torch.zeros((64, 50), dtype=dtype)  # minibatch size 64, feature dimension 50\n",
        "    w1 = torch.zeros((50, hidden_layer_size), dtype=dtype)\n",
        "    w2 = torch.zeros((hidden_layer_size, 10), dtype=dtype)\n",
        "    scores = two_layer_fc(x, [w1, w2])\n",
        "    print(scores.size())  # you should see [64, 10]\n",
        "\n",
        "two_layer_fc_test()"
      ]
    },
    {
      "cell_type": "markdown",
      "id": "c98b4f11",
      "metadata": {
        "id": "c98b4f11"
      },
      "source": [
        "### Barebones PyTorch: Three-Layer ConvNet\n",
        "\n",
        "Here you will complete the implementation of the function `three_layer_convnet`, which will perform the forward pass of a three-layer convolutional network. Like above, we can immediately test our implementation by passing zeros through the network. The network should have the following architecture:\n",
        "\n",
        "1. A convolutional layer (with bias) with `channel_1` filters, each with shape `KW1 x KH1`, and zero-padding of two\n",
        "2. ReLU nonlinearity\n",
        "3. A convolutional layer (with bias) with `channel_2` filters, each with shape `KW2 x KH2`, and zero-padding of one\n",
        "4. ReLU nonlinearity\n",
        "5. Fully-connected layer with bias, producing scores for C classes.\n",
        "\n",
        "Note that we have **no softmax activation** here after our fully-connected layer: this is because PyTorch's cross entropy loss performs a softmax activation for you, and by bundling that step in makes computation more efficient.\n",
        "\n",
        "**HINT**: For convolutions: http://pytorch.org/docs/stable/nn.html#torch.nn.functional.conv2d; pay attention to the shapes of convolutional filters!"
      ]
    },
    {
      "cell_type": "code",
      "execution_count": null,
      "id": "4082442f",
      "metadata": {
        "id": "4082442f"
      },
      "outputs": [],
      "source": [
        "def three_layer_convnet(x, params):\n",
        "    \"\"\"\n",
        "    Performs the forward pass of a three-layer convolutional network with the\n",
        "    architecture defined above.\n",
        "\n",
        "    Inputs:\n",
        "    - x: A PyTorch Tensor of shape (N, 3, H, W) giving a minibatch of images\n",
        "    - params: A list of PyTorch Tensors giving the weights and biases for the\n",
        "      network; should contain the following:\n",
        "      - conv_w1: PyTorch Tensor of shape (channel_1, 3, KH1, KW1) giving weights\n",
        "        for the first convolutional layer\n",
        "      - conv_b1: PyTorch Tensor of shape (channel_1,) giving biases for the first\n",
        "        convolutional layer\n",
        "      - conv_w2: PyTorch Tensor of shape (channel_2, channel_1, KH2, KW2) giving\n",
        "        weights for the second convolutional layer\n",
        "      - conv_b2: PyTorch Tensor of shape (channel_2,) giving biases for the second\n",
        "        convolutional layer\n",
        "      - fc_w: PyTorch Tensor giving weights for the fully-connected layer. Can you\n",
        "        figure out what the shape should be?\n",
        "      - fc_b: PyTorch Tensor giving biases for the fully-connected layer. Can you\n",
        "        figure out what the shape should be?\n",
        "\n",
        "    Returns:\n",
        "    - scores: PyTorch Tensor of shape (N, C) giving classification scores for x\n",
        "    \"\"\"\n",
        "    conv_w1, conv_b1, conv_w2, conv_b2, fc_w, fc_b = params\n",
        "    scores = None\n",
        "    ################################################################################\n",
        "    # TODO: Implement the forward pass for the three-layer ConvNet.                #\n",
        "    ################################################################################\n",
        "    # *****START OF YOUR CODE (DO NOT DELETE/MODIFY THIS LINE)*****\n",
        "\n",
        "    x = F.conv2d(x, conv_w1, bias=conv_b1, padding=2)\n",
        "    x = F.relu(x)\n",
        "    x = F.conv2d(x, conv_w2, bias=conv_b2, padding=1)\n",
        "    x = F.relu(x)\n",
        "    x = flatten(x)\n",
        "    scores = x.mm(fc_w)+fc_b\n",
        "\n",
        "    # *****END OF YOUR CODE (DO NOT DELETE/MODIFY THIS LINE)*****\n",
        "    ################################################################################\n",
        "    #                                 END OF YOUR CODE                             #\n",
        "    ################################################################################\n",
        "    return scores"
      ]
    },
    {
      "cell_type": "markdown",
      "id": "08d9312d",
      "metadata": {
        "id": "08d9312d"
      },
      "source": [
        "After defining the forward pass of the ConvNet above, run the following cell to test your implementation.\n",
        "\n",
        "When you run this function, scores should have shape (64, 10)."
      ]
    },
    {
      "cell_type": "code",
      "execution_count": null,
      "id": "f929a029",
      "metadata": {
        "tags": [
          "pdf-ignore-input"
        ],
        "test": "barebones_output_shape",
        "colab": {
          "base_uri": "https://localhost:8080/"
        },
        "id": "f929a029",
        "outputId": "ffa3bf1a-ffaf-44b2-b426-d8698715ff2c"
      },
      "outputs": [
        {
          "output_type": "stream",
          "name": "stdout",
          "text": [
            "torch.Size([64, 10])\n"
          ]
        }
      ],
      "source": [
        "def three_layer_convnet_test():\n",
        "    x = torch.zeros((64, 3, 32, 32), dtype=dtype)  # minibatch size 64, image size [3, 32, 32]\n",
        "\n",
        "    conv_w1 = torch.zeros((6, 3, 5, 5), dtype=dtype)  # [out_channel, in_channel, kernel_H, kernel_W]\n",
        "    conv_b1 = torch.zeros((6,))  # out_channel\n",
        "    conv_w2 = torch.zeros((9, 6, 3, 3), dtype=dtype)  # [out_channel, in_channel, kernel_H, kernel_W]\n",
        "    conv_b2 = torch.zeros((9,))  # out_channel\n",
        "\n",
        "    # you must calculate the shape of the tensor after two conv layers, before the fully-connected layer\n",
        "    fc_w = torch.zeros((9 * 32 * 32, 10))\n",
        "    fc_b = torch.zeros(10)\n",
        "\n",
        "    scores = three_layer_convnet(x, [conv_w1, conv_b1, conv_w2, conv_b2, fc_w, fc_b])\n",
        "    print(scores.size())  # you should see [64, 10]\n",
        "three_layer_convnet_test()"
      ]
    },
    {
      "cell_type": "markdown",
      "id": "ed8b5f83",
      "metadata": {
        "id": "ed8b5f83"
      },
      "source": [
        "### Barebones PyTorch: Initialization\n",
        "Let's write a couple utility methods to initialize the weight matrices for our models.\n",
        "\n",
        "- `random_weight(shape)` initializes a weight tensor with the Kaiming normalization method.\n",
        "- `zero_weight(shape)` initializes a weight tensor with all zeros. Useful for instantiating bias parameters.\n",
        "\n",
        "The `random_weight` function uses the Kaiming normal initialization method, described in:\n",
        "\n",
        "He et al, *Delving Deep into Rectifiers: Surpassing Human-Level Performance on ImageNet Classification*, ICCV 2015, https://arxiv.org/abs/1502.01852"
      ]
    },
    {
      "cell_type": "code",
      "execution_count": null,
      "id": "03afd48a",
      "metadata": {
        "tags": [
          "pdf-ignore-input"
        ],
        "colab": {
          "base_uri": "https://localhost:8080/"
        },
        "id": "03afd48a",
        "outputId": "971d15b8-d429-4074-98ea-d4da6be2a36e"
      },
      "outputs": [
        {
          "output_type": "execute_result",
          "data": {
            "text/plain": [
              "tensor([[ 0.1168, -0.1421,  0.6777,  1.0633, -1.3953],\n",
              "        [-0.7401, -0.5768, -0.3743, -1.7624,  0.2029],\n",
              "        [-0.0073,  0.7609,  0.0208, -0.2948, -0.5769]], device='cuda:0',\n",
              "       requires_grad=True)"
            ]
          },
          "metadata": {},
          "execution_count": 9
        }
      ],
      "source": [
        "def random_weight(shape):\n",
        "    \"\"\"\n",
        "    Create random Tensors for weights; setting requires_grad=True means that we\n",
        "    want to compute gradients for these Tensors during the backward pass.\n",
        "    We use Kaiming normalization: sqrt(2 / fan_in)\n",
        "    \"\"\"\n",
        "    if len(shape) == 2:  # FC weight\n",
        "        fan_in = shape[0]\n",
        "    else:\n",
        "        fan_in = np.prod(shape[1:]) # conv weight [out_channel, in_channel, kH, kW]\n",
        "    # randn is standard normal distribution generator.\n",
        "    w = torch.randn(shape, device=device, dtype=dtype) * np.sqrt(2. / fan_in)\n",
        "    w.requires_grad = True\n",
        "    return w\n",
        "\n",
        "def zero_weight(shape):\n",
        "    return torch.zeros(shape, device=device, dtype=dtype, requires_grad=True)\n",
        "\n",
        "# create a weight of shape [3 x 5]\n",
        "# you should see the type `torch.cuda.FloatTensor` if you use GPU.\n",
        "# Otherwise it should be `torch.FloatTensor`\n",
        "random_weight((3, 5))"
      ]
    },
    {
      "cell_type": "markdown",
      "id": "1ccd6c49",
      "metadata": {
        "id": "1ccd6c49"
      },
      "source": [
        "### Barebones PyTorch: Check Accuracy\n",
        "When training the model we will use the following function to check the accuracy of our model on the training or validation sets.\n",
        "\n",
        "When checking accuracy we don't need to compute any gradients; as a result we don't need PyTorch to build a computational graph for us when we compute scores. To prevent a graph from being built we scope our computation under a `torch.no_grad()` context manager."
      ]
    },
    {
      "cell_type": "code",
      "execution_count": null,
      "id": "2bf8db63",
      "metadata": {
        "tags": [
          "pdf-ignore-input"
        ],
        "id": "2bf8db63"
      },
      "outputs": [],
      "source": [
        "def check_accuracy_part2(loader, model_fn, params):\n",
        "    \"\"\"\n",
        "    Check the accuracy of a classification model.\n",
        "\n",
        "    Inputs:\n",
        "    - loader: A DataLoader for the data split we want to check\n",
        "    - model_fn: A function that performs the forward pass of the model,\n",
        "      with the signature scores = model_fn(x, params)\n",
        "    - params: List of PyTorch Tensors giving parameters of the model\n",
        "\n",
        "    Returns: Nothing, but prints the accuracy of the model\n",
        "    \"\"\"\n",
        "    split = 'val' if loader.dataset.train else 'test'\n",
        "    print('Checking accuracy on the %s set' % split)\n",
        "    num_correct, num_samples = 0, 0\n",
        "    with torch.no_grad():\n",
        "        for x, y in loader:\n",
        "            x = x.to(device=device, dtype=dtype)  # move to device, e.g. GPU\n",
        "            y = y.to(device=device, dtype=torch.int64)\n",
        "            scores = model_fn(x, params)\n",
        "            _, preds = scores.max(1)\n",
        "            num_correct += (preds == y).sum()\n",
        "            num_samples += preds.size(0)\n",
        "        acc = float(num_correct) / num_samples\n",
        "        print('Got %d / %d correct (%.2f%%)' % (num_correct, num_samples, 100 * acc))"
      ]
    },
    {
      "cell_type": "markdown",
      "id": "32b1bd28",
      "metadata": {
        "id": "32b1bd28"
      },
      "source": [
        "### BareBones PyTorch: Training Loop\n",
        "We can now set up a basic training loop to train our network. We will train the model using stochastic gradient descent without momentum. We will use `torch.functional.cross_entropy` to compute the loss; you can [read about it here](http://pytorch.org/docs/stable/nn.html#cross-entropy).\n",
        "\n",
        "The training loop takes as input the neural network function, a list of initialized parameters (`[w1, w2]` in our example), and learning rate."
      ]
    },
    {
      "cell_type": "code",
      "execution_count": null,
      "id": "a04a1ab8",
      "metadata": {
        "tags": [
          "pdf-ignore-input"
        ],
        "id": "a04a1ab8"
      },
      "outputs": [],
      "source": [
        "def train_part2(model_fn, params, learning_rate):\n",
        "    \"\"\"\n",
        "    Train a model on CIFAR-10.\n",
        "\n",
        "    Inputs:\n",
        "    - model_fn: A Python function that performs the forward pass of the model.\n",
        "      It should have the signature scores = model_fn(x, params) where x is a\n",
        "      PyTorch Tensor of image data, params is a list of PyTorch Tensors giving\n",
        "      model weights, and scores is a PyTorch Tensor of shape (N, C) giving\n",
        "      scores for the elements in x.\n",
        "    - params: List of PyTorch Tensors giving weights for the model\n",
        "    - learning_rate: Python scalar giving the learning rate to use for SGD\n",
        "\n",
        "    Returns: Nothing\n",
        "    \"\"\"\n",
        "    for t, (x, y) in enumerate(loader_train):\n",
        "        # Move the data to the proper device (GPU or CPU)\n",
        "        x = x.to(device=device, dtype=dtype)\n",
        "        y = y.to(device=device, dtype=torch.long)\n",
        "\n",
        "        # Forward pass: compute scores and loss\n",
        "        scores = model_fn(x, params)\n",
        "        loss = F.cross_entropy(scores, y)\n",
        "\n",
        "        # Backward pass: PyTorch figures out which Tensors in the computational\n",
        "        # graph has requires_grad=True and uses backpropagation to compute the\n",
        "        # gradient of the loss with respect to these Tensors, and stores the\n",
        "        # gradients in the .grad attribute of each Tensor.\n",
        "        loss.backward()\n",
        "\n",
        "        # Update parameters. We don't want to backpropagate through the\n",
        "        # parameter updates, so we scope the updates under a torch.no_grad()\n",
        "        # context manager to prevent a computational graph from being built.\n",
        "        with torch.no_grad():\n",
        "            for w in params:\n",
        "                w -= learning_rate * w.grad\n",
        "\n",
        "                # Manually zero the gradients after running the backward pass\n",
        "                w.grad.zero_()\n",
        "\n",
        "        if t % print_every == 0:\n",
        "            print('Iteration %d, loss = %.4f' % (t, loss.item()))\n",
        "            check_accuracy_part2(loader_val, model_fn, params)\n",
        "            print()"
      ]
    },
    {
      "cell_type": "markdown",
      "id": "1e7569ee",
      "metadata": {
        "id": "1e7569ee"
      },
      "source": [
        "### BareBones PyTorch: Train a Two-Layer Network\n",
        "Now we are ready to run the training loop. We need to explicitly allocate tensors for the fully connected weights, `w1` and `w2`.\n",
        "\n",
        "Each minibatch of CIFAR has 64 examples, so the tensor shape is `[64, 3, 32, 32]`.\n",
        "\n",
        "After flattening, `x` shape should be `[64, 3 * 32 * 32]`. This will be the size of the first dimension of `w1`.\n",
        "The second dimension of `w1` is the hidden layer size, which will also be the first dimension of `w2`.\n",
        "\n",
        "Finally, the output of the network is a 10-dimensional vector that represents the probability distribution over 10 classes.\n",
        "\n",
        "You don't need to tune any hyperparameters but you should see accuracies above 40% after training for one epoch."
      ]
    },
    {
      "cell_type": "code",
      "execution_count": null,
      "id": "d5c4fbb8",
      "metadata": {
        "id": "d5c4fbb8",
        "colab": {
          "base_uri": "https://localhost:8080/"
        },
        "outputId": "52929679-e032-4936-cf68-3a7a4410dd75"
      },
      "outputs": [
        {
          "output_type": "stream",
          "name": "stdout",
          "text": [
            "Iteration 0, loss = 3.1793\n",
            "Checking accuracy on the val set\n",
            "Got 166 / 1000 correct (16.60%)\n",
            "\n",
            "Iteration 100, loss = 2.5511\n",
            "Checking accuracy on the val set\n",
            "Got 351 / 1000 correct (35.10%)\n",
            "\n",
            "Iteration 200, loss = 2.2476\n",
            "Checking accuracy on the val set\n",
            "Got 382 / 1000 correct (38.20%)\n",
            "\n",
            "Iteration 300, loss = 2.1484\n",
            "Checking accuracy on the val set\n",
            "Got 407 / 1000 correct (40.70%)\n",
            "\n",
            "Iteration 400, loss = 2.1025\n",
            "Checking accuracy on the val set\n",
            "Got 438 / 1000 correct (43.80%)\n",
            "\n",
            "Iteration 500, loss = 1.7718\n",
            "Checking accuracy on the val set\n",
            "Got 409 / 1000 correct (40.90%)\n",
            "\n",
            "Iteration 600, loss = 2.4067\n",
            "Checking accuracy on the val set\n",
            "Got 413 / 1000 correct (41.30%)\n",
            "\n",
            "Iteration 700, loss = 1.6909\n",
            "Checking accuracy on the val set\n",
            "Got 427 / 1000 correct (42.70%)\n",
            "\n"
          ]
        }
      ],
      "source": [
        "hidden_layer_size = 4000\n",
        "learning_rate = 1e-2\n",
        "\n",
        "w1 = random_weight((3 * 32 * 32, hidden_layer_size))\n",
        "w2 = random_weight((hidden_layer_size, 10))\n",
        "\n",
        "train_part2(two_layer_fc, [w1, w2], learning_rate)"
      ]
    },
    {
      "cell_type": "markdown",
      "id": "050a4960",
      "metadata": {
        "id": "050a4960"
      },
      "source": [
        "### BareBones PyTorch: Training a ConvNet\n",
        "\n",
        "In the below you should use the functions defined above to train a three-layer convolutional network on CIFAR. The network should have the following architecture:\n",
        "\n",
        "1. Convolutional layer (with bias) with 32 5x5 filters, with zero-padding of 2\n",
        "2. ReLU\n",
        "3. Convolutional layer (with bias) with 16 3x3 filters, with zero-padding of 1\n",
        "4. ReLU\n",
        "5. Fully-connected layer (with bias) to compute scores for 10 classes\n",
        "\n",
        "You should initialize your weight matrices using the `random_weight` function defined above, and you should initialize your bias vectors using the `zero_weight` function above.\n",
        "\n",
        "You don't need to tune any hyperparameters, but if everything works correctly you should achieve an accuracy above 42% after one epoch."
      ]
    },
    {
      "cell_type": "code",
      "execution_count": null,
      "id": "7fdf67a3",
      "metadata": {
        "test": "barebones_accuracy",
        "id": "7fdf67a3",
        "colab": {
          "base_uri": "https://localhost:8080/"
        },
        "outputId": "93cb1010-776f-46ff-b10d-3c992ff4adb3"
      },
      "outputs": [
        {
          "output_type": "stream",
          "name": "stdout",
          "text": [
            "Iteration 0, loss = 3.0987\n",
            "Checking accuracy on the val set\n",
            "Got 112 / 1000 correct (11.20%)\n",
            "\n",
            "Iteration 100, loss = 1.7727\n",
            "Checking accuracy on the val set\n",
            "Got 348 / 1000 correct (34.80%)\n",
            "\n",
            "Iteration 200, loss = 1.5041\n",
            "Checking accuracy on the val set\n",
            "Got 387 / 1000 correct (38.70%)\n",
            "\n",
            "Iteration 300, loss = 1.6822\n",
            "Checking accuracy on the val set\n",
            "Got 431 / 1000 correct (43.10%)\n",
            "\n",
            "Iteration 400, loss = 1.6825\n",
            "Checking accuracy on the val set\n",
            "Got 443 / 1000 correct (44.30%)\n",
            "\n",
            "Iteration 500, loss = 1.5780\n",
            "Checking accuracy on the val set\n",
            "Got 455 / 1000 correct (45.50%)\n",
            "\n",
            "Iteration 600, loss = 1.3950\n",
            "Checking accuracy on the val set\n",
            "Got 465 / 1000 correct (46.50%)\n",
            "\n",
            "Iteration 700, loss = 1.6360\n",
            "Checking accuracy on the val set\n",
            "Got 459 / 1000 correct (45.90%)\n",
            "\n"
          ]
        }
      ],
      "source": [
        "learning_rate = 3e-3\n",
        "\n",
        "channel_1 = 32\n",
        "channel_2 = 16\n",
        "\n",
        "conv_w1 = random_weight((32, 3, 5, 5))\n",
        "conv_b1 = zero_weight((32))\n",
        "conv_w2 = random_weight((16, 32, 3, 3))\n",
        "conv_b2 = zero_weight((16))\n",
        "fc_w = random_weight((32*32*16, 10))\n",
        "fc_b = zero_weight((10))\n",
        "\n",
        "################################################################################\n",
        "# TODO: Initialize the parameters of a three-layer ConvNet.                    #\n",
        "################################################################################\n",
        "# *****START OF YOUR CODE (DO NOT DELETE/MODIFY THIS LINE)*****\n",
        "\n",
        "pass\n",
        "\n",
        "# *****END OF YOUR CODE (DO NOT DELETE/MODIFY THIS LINE)*****\n",
        "################################################################################\n",
        "#                                 END OF YOUR CODE                             #\n",
        "################################################################################\n",
        "\n",
        "params = [conv_w1, conv_b1, conv_w2, conv_b2, fc_w, fc_b]\n",
        "train_part2(three_layer_convnet, params, learning_rate)"
      ]
    },
    {
      "cell_type": "markdown",
      "id": "b50a4736",
      "metadata": {
        "id": "b50a4736"
      },
      "source": [
        "# Part III. PyTorch Module API\n",
        "\n",
        "Barebone PyTorch requires that we track all the parameter tensors by hand. This is fine for small networks with a few tensors, but it would be extremely inconvenient and error-prone to track tens or hundreds of tensors in larger networks.\n",
        "\n",
        "PyTorch provides the `nn.Module` API for you to define arbitrary network architectures, while tracking every learnable parameters for you. In Part II, we implemented SGD ourselves. PyTorch also provides the `torch.optim` package that implements all the common optimizers, such as RMSProp, Adagrad, and Adam. It even supports approximate second-order methods like L-BFGS! You can refer to the [doc](http://pytorch.org/docs/master/optim.html) for the exact specifications of each optimizer.\n",
        "\n",
        "To use the Module API, follow the steps below:\n",
        "\n",
        "1. Subclass `nn.Module`. Give your network class an intuitive name like `TwoLayerFC`.\n",
        "\n",
        "2. In the constructor `__init__()`, define all the layers you need as class attributes. Layer objects like `nn.Linear` and `nn.Conv2d` are themselves `nn.Module` subclasses and contain learnable parameters, so that you don't have to instantiate the raw tensors yourself. `nn.Module` will track these internal parameters for you. Refer to the [doc](http://pytorch.org/docs/master/nn.html) to learn more about the dozens of builtin layers. **Warning**: don't forget to call the `super().__init__()` first!\n",
        "\n",
        "3. In the `forward()` method, define the *connectivity* of your network. You should use the attributes defined in `__init__` as function calls that take tensor as input and output the \"transformed\" tensor. Do *not* create any new layers with learnable parameters in `forward()`! All of them must be declared upfront in `__init__`.\n",
        "\n",
        "After you define your Module subclass, you can instantiate it as an object and call it just like the NN forward function in part II.\n",
        "\n",
        "### Module API: Two-Layer Network\n",
        "Here is a concrete example of a 2-layer fully connected network:"
      ]
    },
    {
      "cell_type": "code",
      "execution_count": null,
      "id": "58a20af0",
      "metadata": {
        "id": "58a20af0",
        "colab": {
          "base_uri": "https://localhost:8080/"
        },
        "outputId": "f375f1c1-30aa-47ab-ee53-9ab34a376f91"
      },
      "outputs": [
        {
          "output_type": "stream",
          "name": "stdout",
          "text": [
            "torch.Size([64, 10])\n"
          ]
        }
      ],
      "source": [
        "class TwoLayerFC(nn.Module):\n",
        "    def __init__(self, input_size, hidden_size, num_classes):\n",
        "        super().__init__()\n",
        "        # assign layer objects to class attributes\n",
        "        self.fc1 = nn.Linear(input_size, hidden_size)\n",
        "        # nn.init package contains convenient initialization methods\n",
        "        # http://pytorch.org/docs/master/nn.html#torch-nn-init\n",
        "        nn.init.kaiming_normal_(self.fc1.weight)\n",
        "        self.fc2 = nn.Linear(hidden_size, num_classes)\n",
        "        nn.init.kaiming_normal_(self.fc2.weight)\n",
        "\n",
        "    def forward(self, x):\n",
        "        # forward always defines connectivity\n",
        "        x = flatten(x)\n",
        "        scores = self.fc2(F.relu(self.fc1(x)))\n",
        "        return scores\n",
        "\n",
        "def test_TwoLayerFC():\n",
        "    input_size = 50\n",
        "    x = torch.zeros((64, input_size), dtype=dtype)  # minibatch size 64, feature dimension 50\n",
        "    model = TwoLayerFC(input_size, 42, 10)\n",
        "    scores = model(x)\n",
        "    print(scores.size())  # you should see [64, 10]\n",
        "test_TwoLayerFC()"
      ]
    },
    {
      "cell_type": "markdown",
      "id": "6add7497",
      "metadata": {
        "id": "6add7497"
      },
      "source": [
        "### Module API: Three-Layer ConvNet\n",
        "It's your turn to implement a 3-layer ConvNet followed by a fully connected layer. The network architecture should be the same as in Part II:\n",
        "\n",
        "1. Convolutional layer with `channel_1` 5x5 filters with zero-padding of 2\n",
        "2. ReLU\n",
        "3. Convolutional layer with `channel_2` 3x3 filters with zero-padding of 1\n",
        "4. ReLU\n",
        "5. Fully-connected layer to `num_classes` classes\n",
        "\n",
        "You should initialize the weight matrices of the model using the Kaiming normal initialization method.\n",
        "\n",
        "**HINT**: http://pytorch.org/docs/stable/nn.html#conv2d\n",
        "\n",
        "After you implement the three-layer ConvNet, the `test_ThreeLayerConvNet` function will run your implementation; it should print `(64, 10)` for the shape of the output scores."
      ]
    },
    {
      "cell_type": "code",
      "execution_count": null,
      "id": "615f1ab0",
      "metadata": {
        "test": "module_output_shape",
        "id": "615f1ab0",
        "colab": {
          "base_uri": "https://localhost:8080/"
        },
        "outputId": "8231b687-0a97-4616-fc68-912d3f7edb45"
      },
      "outputs": [
        {
          "output_type": "stream",
          "name": "stdout",
          "text": [
            "torch.Size([64, 10])\n"
          ]
        }
      ],
      "source": [
        "class ThreeLayerConvNet(nn.Module):\n",
        "    def __init__(self, in_channel, channel_1, channel_2, num_classes):\n",
        "        super().__init__()\n",
        "        ########################################################################\n",
        "        # TODO: Set up the layers you need for a three-layer ConvNet with the  #\n",
        "        # architecture defined above.                                          #\n",
        "        ########################################################################\n",
        "        # *****START OF YOUR CODE (DO NOT DELETE/MODIFY THIS LINE)*****\n",
        "\n",
        "        self.conv1 = nn.Conv2d(in_channel, channel_1, 5, padding=2)\n",
        "        self.conv2 = nn.Conv2d(channel_1, channel_2, 3, padding=1)\n",
        "        self.fc1 = nn.Linear(32*32*channel_2, num_classes)\n",
        "\n",
        "        # *****END OF YOUR CODE (DO NOT DELETE/MODIFY THIS LINE)*****\n",
        "        ########################################################################\n",
        "        #                          END OF YOUR CODE                            #\n",
        "        ########################################################################\n",
        "\n",
        "    def forward(self, x):\n",
        "        scores = None\n",
        "        ########################################################################\n",
        "        # TODO: Implement the forward function for a 3-layer ConvNet. you      #\n",
        "        # should use the layers you defined in __init__ and specify the        #\n",
        "        # connectivity of those layers in forward()                            #\n",
        "        ########################################################################\n",
        "        # *****START OF YOUR CODE (DO NOT DELETE/MODIFY THIS LINE)*****\n",
        "\n",
        "        scores = self.fc1(flatten(F.relu(self.conv2(F.relu(self.conv1(x))))))\n",
        "\n",
        "        # *****END OF YOUR CODE (DO NOT DELETE/MODIFY THIS LINE)*****\n",
        "        ########################################################################\n",
        "        #                             END OF YOUR CODE                         #\n",
        "        ########################################################################\n",
        "        return scores\n",
        "\n",
        "\n",
        "def test_ThreeLayerConvNet():\n",
        "    x = torch.zeros((64, 3, 32, 32), dtype=dtype)  # minibatch size 64, image size [3, 32, 32]\n",
        "    model = ThreeLayerConvNet(in_channel=3, channel_1=12, channel_2=8, num_classes=10)\n",
        "    scores = model(x)\n",
        "    print(scores.size())  # you should see [64, 10]\n",
        "test_ThreeLayerConvNet()"
      ]
    },
    {
      "cell_type": "markdown",
      "id": "9ae86894",
      "metadata": {
        "id": "9ae86894"
      },
      "source": [
        "### Module API: Check Accuracy\n",
        "Given the validation or test set, we can check the classification accuracy of a neural network.\n",
        "\n",
        "This version is slightly different from the one in part II. You don't manually pass in the parameters anymore."
      ]
    },
    {
      "cell_type": "code",
      "execution_count": null,
      "id": "30ed8d55",
      "metadata": {
        "id": "30ed8d55"
      },
      "outputs": [],
      "source": [
        "def check_accuracy_part34(loader, model):\n",
        "    if loader.dataset.train:\n",
        "        print('Checking accuracy on validation set')\n",
        "    else:\n",
        "        print('Checking accuracy on test set')\n",
        "    num_correct = 0\n",
        "    num_samples = 0\n",
        "    model.eval()  # set model to evaluation mode\n",
        "    with torch.no_grad():\n",
        "        for x, y in loader:\n",
        "            x = x.to(device=device, dtype=dtype)  # move to device, e.g. GPU\n",
        "            y = y.to(device=device, dtype=torch.long)\n",
        "            scores = model(x)\n",
        "            _, preds = scores.max(1)\n",
        "            num_correct += (preds == y).sum()\n",
        "            num_samples += preds.size(0)\n",
        "        acc = float(num_correct) / num_samples\n",
        "        print('Got %d / %d correct (%.2f)' % (num_correct, num_samples, 100 * acc))"
      ]
    },
    {
      "cell_type": "markdown",
      "id": "f6d222a3",
      "metadata": {
        "id": "f6d222a3"
      },
      "source": [
        "### Module API: Training Loop\n",
        "We also use a slightly different training loop. Rather than updating the values of the weights ourselves, we use an Optimizer object from the `torch.optim` package, which abstract the notion of an optimization algorithm and provides implementations of most of the algorithms commonly used to optimize neural networks."
      ]
    },
    {
      "cell_type": "code",
      "execution_count": null,
      "id": "4d050159",
      "metadata": {
        "id": "4d050159"
      },
      "outputs": [],
      "source": [
        "def train_part34(model, optimizer, epochs=1):\n",
        "    \"\"\"\n",
        "    Train a model on CIFAR-10 using the PyTorch Module API.\n",
        "\n",
        "    Inputs:\n",
        "    - model: A PyTorch Module giving the model to train.\n",
        "    - optimizer: An Optimizer object we will use to train the model\n",
        "    - epochs: (Optional) A Python integer giving the number of epochs to train for\n",
        "\n",
        "    Returns: Nothing, but prints model accuracies during training.\n",
        "    \"\"\"\n",
        "    model = model.to(device=device)  # move the model parameters to CPU/GPU\n",
        "    for e in range(epochs):\n",
        "        for t, (x, y) in enumerate(loader_train):\n",
        "            model.train()  # put model to training mode\n",
        "            x = x.to(device=device, dtype=dtype)  # move to device, e.g. GPU\n",
        "            y = y.to(device=device, dtype=torch.long)\n",
        "\n",
        "            scores = model(x)\n",
        "            loss = F.cross_entropy(scores, y)\n",
        "\n",
        "            # Zero out all of the gradients for the variables which the optimizer\n",
        "            # will update.\n",
        "            optimizer.zero_grad()\n",
        "\n",
        "            # This is the backwards pass: compute the gradient of the loss with\n",
        "            # respect to each  parameter of the model.\n",
        "            loss.backward()\n",
        "\n",
        "            # Actually update the parameters of the model using the gradients\n",
        "            # computed by the backwards pass.\n",
        "            optimizer.step()\n",
        "\n",
        "            if t % print_every == 0:\n",
        "                print('Iteration %d, loss = %.4f' % (t, loss.item()))\n",
        "                check_accuracy_part34(loader_val, model)\n",
        "                print()"
      ]
    },
    {
      "cell_type": "markdown",
      "id": "7b41a915",
      "metadata": {
        "id": "7b41a915"
      },
      "source": [
        "### Module API: Train a Two-Layer Network\n",
        "Now we are ready to run the training loop. In contrast to part II, we don't explicitly allocate parameter tensors anymore.\n",
        "\n",
        "Simply pass the input size, hidden layer size, and number of classes (i.e. output size) to the constructor of `TwoLayerFC`.\n",
        "\n",
        "You also need to define an optimizer that tracks all the learnable parameters inside `TwoLayerFC`.\n",
        "\n",
        "You don't need to tune any hyperparameters, but you should see model accuracies above 40% after training for one epoch."
      ]
    },
    {
      "cell_type": "code",
      "execution_count": null,
      "id": "9f8972dc",
      "metadata": {
        "id": "9f8972dc",
        "colab": {
          "base_uri": "https://localhost:8080/"
        },
        "outputId": "ec4b02e4-6c66-4808-ac76-46f3aa212482"
      },
      "outputs": [
        {
          "output_type": "stream",
          "name": "stdout",
          "text": [
            "Iteration 0, loss = 4.2187\n",
            "Checking accuracy on validation set\n",
            "Got 173 / 1000 correct (17.30)\n",
            "\n",
            "Iteration 100, loss = 1.9504\n",
            "Checking accuracy on validation set\n",
            "Got 345 / 1000 correct (34.50)\n",
            "\n",
            "Iteration 200, loss = 2.4375\n",
            "Checking accuracy on validation set\n",
            "Got 393 / 1000 correct (39.30)\n",
            "\n",
            "Iteration 300, loss = 1.7282\n",
            "Checking accuracy on validation set\n",
            "Got 401 / 1000 correct (40.10)\n",
            "\n",
            "Iteration 400, loss = 1.9291\n",
            "Checking accuracy on validation set\n",
            "Got 413 / 1000 correct (41.30)\n",
            "\n",
            "Iteration 500, loss = 1.9829\n",
            "Checking accuracy on validation set\n",
            "Got 403 / 1000 correct (40.30)\n",
            "\n",
            "Iteration 600, loss = 1.4297\n",
            "Checking accuracy on validation set\n",
            "Got 421 / 1000 correct (42.10)\n",
            "\n",
            "Iteration 700, loss = 1.3540\n",
            "Checking accuracy on validation set\n",
            "Got 445 / 1000 correct (44.50)\n",
            "\n"
          ]
        }
      ],
      "source": [
        "hidden_layer_size = 4000\n",
        "learning_rate = 1e-2\n",
        "model = TwoLayerFC(3 * 32 * 32, hidden_layer_size, 10)\n",
        "optimizer = optim.SGD(model.parameters(), lr=learning_rate)\n",
        "\n",
        "train_part34(model, optimizer)"
      ]
    },
    {
      "cell_type": "markdown",
      "id": "f5be72f2",
      "metadata": {
        "id": "f5be72f2"
      },
      "source": [
        "### Module API: Train a Three-Layer ConvNet\n",
        "You should now use the Module API to train a three-layer ConvNet on CIFAR. This should look very similar to training the two-layer network! You don't need to tune any hyperparameters, but you should achieve above above 45% after training for one epoch.\n",
        "\n",
        "You should train the model using stochastic gradient descent without momentum."
      ]
    },
    {
      "cell_type": "code",
      "execution_count": null,
      "id": "7b8ba6a9",
      "metadata": {
        "test": "module_accuracy",
        "id": "7b8ba6a9",
        "colab": {
          "base_uri": "https://localhost:8080/"
        },
        "outputId": "c06d0152-808f-446c-a257-5bf3b8394654"
      },
      "outputs": [
        {
          "output_type": "stream",
          "name": "stdout",
          "text": [
            "Iteration 0, loss = 2.3029\n",
            "Checking accuracy on validation set\n",
            "Got 150 / 1000 correct (15.00)\n",
            "\n",
            "Iteration 100, loss = 2.0489\n",
            "Checking accuracy on validation set\n",
            "Got 266 / 1000 correct (26.60)\n",
            "\n",
            "Iteration 200, loss = 1.8823\n",
            "Checking accuracy on validation set\n",
            "Got 361 / 1000 correct (36.10)\n",
            "\n",
            "Iteration 300, loss = 1.7281\n",
            "Checking accuracy on validation set\n",
            "Got 366 / 1000 correct (36.60)\n",
            "\n",
            "Iteration 400, loss = 2.0698\n",
            "Checking accuracy on validation set\n",
            "Got 385 / 1000 correct (38.50)\n",
            "\n",
            "Iteration 500, loss = 1.7084\n",
            "Checking accuracy on validation set\n",
            "Got 415 / 1000 correct (41.50)\n",
            "\n",
            "Iteration 600, loss = 1.6133\n",
            "Checking accuracy on validation set\n",
            "Got 426 / 1000 correct (42.60)\n",
            "\n",
            "Iteration 700, loss = 1.5092\n",
            "Checking accuracy on validation set\n",
            "Got 434 / 1000 correct (43.40)\n",
            "\n"
          ]
        }
      ],
      "source": [
        "learning_rate = 3e-3\n",
        "channel_1 = 32\n",
        "channel_2 = 16\n",
        "\n",
        "model = None\n",
        "optimizer = None\n",
        "################################################################################\n",
        "# TODO: Instantiate your ThreeLayerConvNet model and a corresponding optimizer #\n",
        "################################################################################\n",
        "# *****START OF YOUR CODE (DO NOT DELETE/MODIFY THIS LINE)*****\n",
        "\n",
        "model = ThreeLayerConvNet(3, channel_1, channel_2, 10)\n",
        "optimizer = optim.SGD(model.parameters(), lr=learning_rate)\n",
        "\n",
        "# *****END OF YOUR CODE (DO NOT DELETE/MODIFY THIS LINE)*****\n",
        "################################################################################\n",
        "#                                 END OF YOUR CODE                             #\n",
        "################################################################################\n",
        "\n",
        "train_part34(model, optimizer)"
      ]
    },
    {
      "cell_type": "markdown",
      "id": "20a647e0",
      "metadata": {
        "id": "20a647e0"
      },
      "source": [
        "# Part IV. PyTorch Sequential API\n",
        "\n",
        "Part III introduced the PyTorch Module API, which allows you to define arbitrary learnable layers and their connectivity.\n",
        "\n",
        "For simple models like a stack of feed forward layers, you still need to go through 3 steps: subclass `nn.Module`, assign layers to class attributes in `__init__`, and call each layer one by one in `forward()`. Is there a more convenient way?\n",
        "\n",
        "Fortunately, PyTorch provides a container Module called `nn.Sequential`, which merges the above steps into one. It is not as flexible as `nn.Module`, because you cannot specify more complex topology than a feed-forward stack, but it's good enough for many use cases.\n",
        "\n",
        "### Sequential API: Two-Layer Network\n",
        "Let's see how to rewrite our two-layer fully connected network example with `nn.Sequential`, and train it using the training loop defined above.\n",
        "\n",
        "Again, you don't need to tune any hyperparameters here, but you shoud achieve above 40% accuracy after one epoch of training."
      ]
    },
    {
      "cell_type": "code",
      "execution_count": null,
      "id": "8afe8ae5",
      "metadata": {
        "id": "8afe8ae5",
        "colab": {
          "base_uri": "https://localhost:8080/"
        },
        "outputId": "25ba13bd-ce17-4237-9804-98983ceeca35"
      },
      "outputs": [
        {
          "output_type": "stream",
          "name": "stdout",
          "text": [
            "Iteration 0, loss = 2.3298\n",
            "Checking accuracy on validation set\n",
            "Got 188 / 1000 correct (18.80)\n",
            "\n",
            "Iteration 100, loss = 1.7822\n",
            "Checking accuracy on validation set\n",
            "Got 406 / 1000 correct (40.60)\n",
            "\n",
            "Iteration 200, loss = 1.9601\n",
            "Checking accuracy on validation set\n",
            "Got 430 / 1000 correct (43.00)\n",
            "\n",
            "Iteration 300, loss = 1.6076\n",
            "Checking accuracy on validation set\n",
            "Got 414 / 1000 correct (41.40)\n",
            "\n",
            "Iteration 400, loss = 1.6851\n",
            "Checking accuracy on validation set\n",
            "Got 412 / 1000 correct (41.20)\n",
            "\n",
            "Iteration 500, loss = 1.5859\n",
            "Checking accuracy on validation set\n",
            "Got 430 / 1000 correct (43.00)\n",
            "\n",
            "Iteration 600, loss = 1.7683\n",
            "Checking accuracy on validation set\n",
            "Got 400 / 1000 correct (40.00)\n",
            "\n",
            "Iteration 700, loss = 1.4607\n",
            "Checking accuracy on validation set\n",
            "Got 456 / 1000 correct (45.60)\n",
            "\n"
          ]
        }
      ],
      "source": [
        "# We need to wrap `flatten` function in a module in order to stack it\n",
        "# in nn.Sequential\n",
        "class Flatten(nn.Module):\n",
        "    def forward(self, x):\n",
        "        return flatten(x)\n",
        "\n",
        "hidden_layer_size = 4000\n",
        "learning_rate = 1e-2\n",
        "\n",
        "model = nn.Sequential(\n",
        "    Flatten(),\n",
        "    nn.Linear(3 * 32 * 32, hidden_layer_size),\n",
        "    nn.ReLU(),\n",
        "    nn.Linear(hidden_layer_size, 10),\n",
        ")\n",
        "\n",
        "# you can use Nesterov momentum in optim.SGD\n",
        "optimizer = optim.SGD(model.parameters(), lr=learning_rate,\n",
        "                     momentum=0.9, nesterov=True)\n",
        "\n",
        "train_part34(model, optimizer)"
      ]
    },
    {
      "cell_type": "markdown",
      "id": "f9122f7c",
      "metadata": {
        "id": "f9122f7c"
      },
      "source": [
        "### Sequential API: Three-Layer ConvNet\n",
        "Here you should use `nn.Sequential` to define and train a three-layer ConvNet with the same architecture we used in Part III:\n",
        "\n",
        "1. Convolutional layer (with bias) with 32 5x5 filters, with zero-padding of 2\n",
        "2. ReLU\n",
        "3. Convolutional layer (with bias) with 16 3x3 filters, with zero-padding of 1\n",
        "4. ReLU\n",
        "5. Fully-connected layer (with bias) to compute scores for 10 classes\n",
        "\n",
        "You can use the default PyTorch weight initialization.\n",
        "\n",
        "You should optimize your model using stochastic gradient descent with Nesterov momentum 0.9.\n",
        "\n",
        "Again, you don't need to tune any hyperparameters but you should see accuracy above 55% after one epoch of training."
      ]
    },
    {
      "cell_type": "code",
      "execution_count": null,
      "id": "1925443c",
      "metadata": {
        "test": "sequential_accuracy",
        "id": "1925443c",
        "colab": {
          "base_uri": "https://localhost:8080/"
        },
        "outputId": "02a3ef35-dce0-4d1f-fd4c-84bfa82c72a6"
      },
      "outputs": [
        {
          "output_type": "stream",
          "name": "stdout",
          "text": [
            "Iteration 0, loss = 2.3466\n",
            "Checking accuracy on validation set\n",
            "Got 106 / 1000 correct (10.60)\n",
            "\n",
            "Iteration 100, loss = 1.5630\n",
            "Checking accuracy on validation set\n",
            "Got 465 / 1000 correct (46.50)\n",
            "\n",
            "Iteration 200, loss = 1.5042\n",
            "Checking accuracy on validation set\n",
            "Got 463 / 1000 correct (46.30)\n",
            "\n",
            "Iteration 300, loss = 1.4583\n",
            "Checking accuracy on validation set\n",
            "Got 484 / 1000 correct (48.40)\n",
            "\n",
            "Iteration 400, loss = 1.6304\n",
            "Checking accuracy on validation set\n",
            "Got 528 / 1000 correct (52.80)\n",
            "\n",
            "Iteration 500, loss = 1.4621\n",
            "Checking accuracy on validation set\n",
            "Got 487 / 1000 correct (48.70)\n",
            "\n",
            "Iteration 600, loss = 1.5961\n",
            "Checking accuracy on validation set\n",
            "Got 507 / 1000 correct (50.70)\n",
            "\n",
            "Iteration 700, loss = 1.1814\n",
            "Checking accuracy on validation set\n",
            "Got 560 / 1000 correct (56.00)\n",
            "\n"
          ]
        }
      ],
      "source": [
        "channel_1 = 32\n",
        "channel_2 = 16\n",
        "learning_rate = 1e-2\n",
        "\n",
        "model = None\n",
        "optimizer = None\n",
        "\n",
        "################################################################################\n",
        "# TODO: Rewrite the 3-layer ConvNet with bias from Part III with the           #\n",
        "# Sequential API.                                                              #\n",
        "################################################################################\n",
        "# *****START OF YOUR CODE (DO NOT DELETE/MODIFY THIS LINE)*****\n",
        "\n",
        "model = nn.Sequential(\n",
        "    nn.Conv2d(3, channel_1, 5, padding=2),\n",
        "    nn.ReLU(),\n",
        "    nn.Conv2d(channel_1, channel_2, 3, padding=1),\n",
        "    nn.ReLU(),\n",
        "    Flatten(),\n",
        "    nn.Linear(32*32*channel_2, 10)\n",
        ")\n",
        "\n",
        "optimizer = optim.SGD(model.parameters(), lr=learning_rate, momentum=0.9, nesterov=True)\n",
        "\n",
        "# *****END OF YOUR CODE (DO NOT DELETE/MODIFY THIS LINE)*****\n",
        "################################################################################\n",
        "#                                 END OF YOUR CODE                             #\n",
        "################################################################################\n",
        "\n",
        "train_part34(model, optimizer)"
      ]
    },
    {
      "cell_type": "markdown",
      "id": "aee775e9",
      "metadata": {
        "id": "aee775e9"
      },
      "source": [
        "# Part V. CIFAR-10 open-ended challenge\n",
        "\n",
        "In this section, you can experiment with whatever ConvNet architecture you'd like on CIFAR-10.\n",
        "\n",
        "Now it's your job to experiment with architectures, hyperparameters, loss functions, and optimizers to train a model that achieves **at least 70%** accuracy on the CIFAR-10 **validation** set within 10 epochs. You can use the check_accuracy and train functions from above. You can use either `nn.Module` or `nn.Sequential` API.\n",
        "\n",
        "Describe what you did at the end of this notebook.\n",
        "\n",
        "Here are the official API documentation for each component. One note: what we call in the class \"spatial batch norm\" is called \"BatchNorm2D\" in PyTorch.\n",
        "\n",
        "* Layers in torch.nn package: http://pytorch.org/docs/stable/nn.html\n",
        "* Activations: http://pytorch.org/docs/stable/nn.html#non-linear-activations\n",
        "* Loss functions: http://pytorch.org/docs/stable/nn.html#loss-functions\n",
        "* Optimizers: http://pytorch.org/docs/stable/optim.html\n",
        "\n",
        "\n",
        "### Things you might try:\n",
        "- **Filter size**: Above we used 5x5; would smaller filters be more efficient?\n",
        "- **Number of filters**: Above we used 32 filters. Do more or fewer do better?\n",
        "- **Pooling vs Strided Convolution**: Do you use max pooling or just stride convolutions?\n",
        "- **Batch normalization**: Try adding spatial batch normalization after convolution layers and vanilla batch normalization after affine layers. Do your networks train faster?\n",
        "- **Network architecture**: The network above has two layers of trainable parameters. Can you do better with a deep network? Good architectures to try include:\n",
        "    - [conv-relu-pool]xN -> [affine]xM -> [softmax or SVM]\n",
        "    - [conv-relu-conv-relu-pool]xN -> [affine]xM -> [softmax or SVM]\n",
        "    - [batchnorm-relu-conv]xN -> [affine]xM -> [softmax or SVM]\n",
        "- **Global Average Pooling**: Instead of flattening and then having multiple affine layers, perform convolutions until your image gets small (7x7 or so) and then perform an average pooling operation to get to a 1x1 image picture (1, 1 , Filter#), which is then reshaped into a (Filter#) vector. This is used in [Google's Inception Network](https://arxiv.org/abs/1512.00567) (See Table 1 for their architecture).\n",
        "- **Regularization**: Add l2 weight regularization, or perhaps use Dropout.\n",
        "\n",
        "### Tips for training\n",
        "For each network architecture that you try, you should tune the learning rate and other hyperparameters. When doing this there are a couple important things to keep in mind:\n",
        "\n",
        "- If the parameters are working well, you should see improvement within a few hundred iterations\n",
        "- Remember the coarse-to-fine approach for hyperparameter tuning: start by testing a large range of hyperparameters for just a few training iterations to find the combinations of parameters that are working at all.\n",
        "- Once you have found some sets of parameters that seem to work, search more finely around these parameters. You may need to train for more epochs.\n",
        "- You should use the validation set for hyperparameter search, and save your test set for evaluating your architecture on the best parameters as selected by the validation set.\n",
        "\n",
        "### Going above and beyond\n",
        "If you are feeling adventurous there are many other features you can implement to try and improve your performance. You are **not required** to implement any of these, but don't miss the fun if you have time!\n",
        "\n",
        "- Alternative optimizers: you can try Adam, Adagrad, RMSprop, etc.\n",
        "- Alternative activation functions such as leaky ReLU, parametric ReLU, ELU, or MaxOut.\n",
        "- Model ensembles\n",
        "- Data augmentation\n",
        "- New Architectures\n",
        "  - [ResNets](https://arxiv.org/abs/1512.03385) where the input from the previous layer is added to the output.\n",
        "  - [DenseNets](https://arxiv.org/abs/1608.06993) where inputs into previous layers are concatenated together.\n",
        "  - [This blog has an in-depth overview](https://chatbotslife.com/resnets-highwaynets-and-densenets-oh-my-9bb15918ee32)\n",
        "\n",
        "### Have fun and happy training!"
      ]
    },
    {
      "cell_type": "code",
      "execution_count": null,
      "id": "641acbb5",
      "metadata": {
        "test": "open_ended_accuracy",
        "id": "641acbb5",
        "colab": {
          "base_uri": "https://localhost:8080/"
        },
        "outputId": "43297a32-b0d1-4e51-b9f2-e5892bc22aa4"
      },
      "outputs": [
        {
          "output_type": "stream",
          "name": "stdout",
          "text": [
            "Iteration 0, loss = 2.3140\n",
            "Checking accuracy on validation set\n",
            "Got 87 / 1000 correct (8.70)\n",
            "\n",
            "Iteration 100, loss = 1.5730\n",
            "Checking accuracy on validation set\n",
            "Got 452 / 1000 correct (45.20)\n",
            "\n",
            "Iteration 200, loss = 1.5526\n",
            "Checking accuracy on validation set\n",
            "Got 475 / 1000 correct (47.50)\n",
            "\n",
            "Iteration 300, loss = 1.4634\n",
            "Checking accuracy on validation set\n",
            "Got 525 / 1000 correct (52.50)\n",
            "\n",
            "Iteration 400, loss = 1.1763\n",
            "Checking accuracy on validation set\n",
            "Got 524 / 1000 correct (52.40)\n",
            "\n",
            "Iteration 500, loss = 1.5841\n",
            "Checking accuracy on validation set\n",
            "Got 568 / 1000 correct (56.80)\n",
            "\n",
            "Iteration 600, loss = 1.2169\n",
            "Checking accuracy on validation set\n",
            "Got 577 / 1000 correct (57.70)\n",
            "\n",
            "Iteration 700, loss = 1.5771\n",
            "Checking accuracy on validation set\n",
            "Got 585 / 1000 correct (58.50)\n",
            "\n",
            "Iteration 0, loss = 0.9812\n",
            "Checking accuracy on validation set\n",
            "Got 603 / 1000 correct (60.30)\n",
            "\n",
            "Iteration 100, loss = 1.1419\n",
            "Checking accuracy on validation set\n",
            "Got 615 / 1000 correct (61.50)\n",
            "\n",
            "Iteration 200, loss = 1.1863\n",
            "Checking accuracy on validation set\n",
            "Got 607 / 1000 correct (60.70)\n",
            "\n",
            "Iteration 300, loss = 1.1899\n",
            "Checking accuracy on validation set\n",
            "Got 615 / 1000 correct (61.50)\n",
            "\n",
            "Iteration 400, loss = 1.4280\n",
            "Checking accuracy on validation set\n",
            "Got 638 / 1000 correct (63.80)\n",
            "\n",
            "Iteration 500, loss = 1.0189\n",
            "Checking accuracy on validation set\n",
            "Got 623 / 1000 correct (62.30)\n",
            "\n",
            "Iteration 600, loss = 1.2621\n",
            "Checking accuracy on validation set\n",
            "Got 624 / 1000 correct (62.40)\n",
            "\n",
            "Iteration 700, loss = 1.2273\n",
            "Checking accuracy on validation set\n",
            "Got 614 / 1000 correct (61.40)\n",
            "\n",
            "Iteration 0, loss = 1.1735\n",
            "Checking accuracy on validation set\n",
            "Got 643 / 1000 correct (64.30)\n",
            "\n",
            "Iteration 100, loss = 1.0469\n",
            "Checking accuracy on validation set\n",
            "Got 660 / 1000 correct (66.00)\n",
            "\n",
            "Iteration 200, loss = 1.1273\n",
            "Checking accuracy on validation set\n",
            "Got 668 / 1000 correct (66.80)\n",
            "\n",
            "Iteration 300, loss = 0.9833\n",
            "Checking accuracy on validation set\n",
            "Got 673 / 1000 correct (67.30)\n",
            "\n",
            "Iteration 400, loss = 1.0881\n",
            "Checking accuracy on validation set\n",
            "Got 654 / 1000 correct (65.40)\n",
            "\n",
            "Iteration 500, loss = 1.0171\n",
            "Checking accuracy on validation set\n",
            "Got 663 / 1000 correct (66.30)\n",
            "\n",
            "Iteration 600, loss = 0.9524\n",
            "Checking accuracy on validation set\n",
            "Got 682 / 1000 correct (68.20)\n",
            "\n",
            "Iteration 700, loss = 1.0304\n",
            "Checking accuracy on validation set\n",
            "Got 680 / 1000 correct (68.00)\n",
            "\n",
            "Iteration 0, loss = 0.8958\n",
            "Checking accuracy on validation set\n",
            "Got 689 / 1000 correct (68.90)\n",
            "\n",
            "Iteration 100, loss = 1.0376\n",
            "Checking accuracy on validation set\n",
            "Got 666 / 1000 correct (66.60)\n",
            "\n",
            "Iteration 200, loss = 0.9852\n",
            "Checking accuracy on validation set\n",
            "Got 670 / 1000 correct (67.00)\n",
            "\n",
            "Iteration 300, loss = 1.0148\n",
            "Checking accuracy on validation set\n",
            "Got 688 / 1000 correct (68.80)\n",
            "\n",
            "Iteration 400, loss = 0.7588\n",
            "Checking accuracy on validation set\n",
            "Got 690 / 1000 correct (69.00)\n",
            "\n",
            "Iteration 500, loss = 1.1761\n",
            "Checking accuracy on validation set\n",
            "Got 680 / 1000 correct (68.00)\n",
            "\n",
            "Iteration 600, loss = 0.9981\n",
            "Checking accuracy on validation set\n",
            "Got 686 / 1000 correct (68.60)\n",
            "\n",
            "Iteration 700, loss = 0.9461\n",
            "Checking accuracy on validation set\n",
            "Got 693 / 1000 correct (69.30)\n",
            "\n",
            "Iteration 0, loss = 0.8400\n",
            "Checking accuracy on validation set\n",
            "Got 690 / 1000 correct (69.00)\n",
            "\n",
            "Iteration 100, loss = 0.8286\n",
            "Checking accuracy on validation set\n",
            "Got 690 / 1000 correct (69.00)\n",
            "\n",
            "Iteration 200, loss = 0.8633\n",
            "Checking accuracy on validation set\n",
            "Got 695 / 1000 correct (69.50)\n",
            "\n",
            "Iteration 300, loss = 0.9897\n",
            "Checking accuracy on validation set\n",
            "Got 689 / 1000 correct (68.90)\n",
            "\n",
            "Iteration 400, loss = 0.7213\n",
            "Checking accuracy on validation set\n",
            "Got 678 / 1000 correct (67.80)\n",
            "\n",
            "Iteration 500, loss = 0.8323\n",
            "Checking accuracy on validation set\n",
            "Got 711 / 1000 correct (71.10)\n",
            "\n",
            "Iteration 600, loss = 0.9578\n",
            "Checking accuracy on validation set\n",
            "Got 698 / 1000 correct (69.80)\n",
            "\n",
            "Iteration 700, loss = 0.7063\n",
            "Checking accuracy on validation set\n",
            "Got 706 / 1000 correct (70.60)\n",
            "\n",
            "Iteration 0, loss = 0.7691\n",
            "Checking accuracy on validation set\n",
            "Got 713 / 1000 correct (71.30)\n",
            "\n",
            "Iteration 100, loss = 0.7559\n",
            "Checking accuracy on validation set\n",
            "Got 724 / 1000 correct (72.40)\n",
            "\n",
            "Iteration 200, loss = 0.8344\n",
            "Checking accuracy on validation set\n",
            "Got 715 / 1000 correct (71.50)\n",
            "\n",
            "Iteration 300, loss = 0.9135\n",
            "Checking accuracy on validation set\n",
            "Got 713 / 1000 correct (71.30)\n",
            "\n",
            "Iteration 400, loss = 0.9251\n",
            "Checking accuracy on validation set\n",
            "Got 714 / 1000 correct (71.40)\n",
            "\n",
            "Iteration 500, loss = 0.6837\n",
            "Checking accuracy on validation set\n",
            "Got 727 / 1000 correct (72.70)\n",
            "\n",
            "Iteration 600, loss = 0.6844\n",
            "Checking accuracy on validation set\n",
            "Got 703 / 1000 correct (70.30)\n",
            "\n",
            "Iteration 700, loss = 0.9883\n",
            "Checking accuracy on validation set\n",
            "Got 718 / 1000 correct (71.80)\n",
            "\n",
            "Iteration 0, loss = 0.9555\n",
            "Checking accuracy on validation set\n",
            "Got 705 / 1000 correct (70.50)\n",
            "\n",
            "Iteration 100, loss = 0.8284\n",
            "Checking accuracy on validation set\n",
            "Got 709 / 1000 correct (70.90)\n",
            "\n",
            "Iteration 200, loss = 0.6355\n",
            "Checking accuracy on validation set\n",
            "Got 731 / 1000 correct (73.10)\n",
            "\n",
            "Iteration 300, loss = 0.7296\n",
            "Checking accuracy on validation set\n",
            "Got 720 / 1000 correct (72.00)\n",
            "\n",
            "Iteration 400, loss = 0.7934\n",
            "Checking accuracy on validation set\n",
            "Got 710 / 1000 correct (71.00)\n",
            "\n",
            "Iteration 500, loss = 0.7333\n",
            "Checking accuracy on validation set\n",
            "Got 717 / 1000 correct (71.70)\n",
            "\n",
            "Iteration 600, loss = 0.5505\n",
            "Checking accuracy on validation set\n",
            "Got 724 / 1000 correct (72.40)\n",
            "\n",
            "Iteration 700, loss = 0.9269\n",
            "Checking accuracy on validation set\n",
            "Got 733 / 1000 correct (73.30)\n",
            "\n",
            "Iteration 0, loss = 0.6849\n",
            "Checking accuracy on validation set\n",
            "Got 734 / 1000 correct (73.40)\n",
            "\n",
            "Iteration 100, loss = 0.5994\n",
            "Checking accuracy on validation set\n",
            "Got 737 / 1000 correct (73.70)\n",
            "\n",
            "Iteration 200, loss = 0.7583\n",
            "Checking accuracy on validation set\n",
            "Got 744 / 1000 correct (74.40)\n",
            "\n",
            "Iteration 300, loss = 0.8734\n",
            "Checking accuracy on validation set\n",
            "Got 745 / 1000 correct (74.50)\n",
            "\n",
            "Iteration 400, loss = 0.9476\n",
            "Checking accuracy on validation set\n",
            "Got 724 / 1000 correct (72.40)\n",
            "\n",
            "Iteration 500, loss = 1.0738\n",
            "Checking accuracy on validation set\n",
            "Got 724 / 1000 correct (72.40)\n",
            "\n",
            "Iteration 600, loss = 0.8967\n",
            "Checking accuracy on validation set\n",
            "Got 727 / 1000 correct (72.70)\n",
            "\n",
            "Iteration 700, loss = 0.7649\n",
            "Checking accuracy on validation set\n",
            "Got 734 / 1000 correct (73.40)\n",
            "\n",
            "Iteration 0, loss = 0.8053\n",
            "Checking accuracy on validation set\n",
            "Got 732 / 1000 correct (73.20)\n",
            "\n",
            "Iteration 100, loss = 0.5591\n",
            "Checking accuracy on validation set\n",
            "Got 749 / 1000 correct (74.90)\n",
            "\n",
            "Iteration 200, loss = 0.5807\n",
            "Checking accuracy on validation set\n",
            "Got 744 / 1000 correct (74.40)\n",
            "\n",
            "Iteration 300, loss = 0.8665\n",
            "Checking accuracy on validation set\n",
            "Got 751 / 1000 correct (75.10)\n",
            "\n",
            "Iteration 400, loss = 0.6911\n",
            "Checking accuracy on validation set\n",
            "Got 738 / 1000 correct (73.80)\n",
            "\n",
            "Iteration 500, loss = 0.6990\n",
            "Checking accuracy on validation set\n",
            "Got 743 / 1000 correct (74.30)\n",
            "\n",
            "Iteration 600, loss = 0.8934\n",
            "Checking accuracy on validation set\n",
            "Got 729 / 1000 correct (72.90)\n",
            "\n",
            "Iteration 700, loss = 0.7439\n",
            "Checking accuracy on validation set\n",
            "Got 725 / 1000 correct (72.50)\n",
            "\n",
            "Iteration 0, loss = 0.4761\n",
            "Checking accuracy on validation set\n",
            "Got 732 / 1000 correct (73.20)\n",
            "\n",
            "Iteration 100, loss = 0.7607\n",
            "Checking accuracy on validation set\n",
            "Got 725 / 1000 correct (72.50)\n",
            "\n",
            "Iteration 200, loss = 0.9027\n",
            "Checking accuracy on validation set\n",
            "Got 750 / 1000 correct (75.00)\n",
            "\n",
            "Iteration 300, loss = 0.6558\n",
            "Checking accuracy on validation set\n",
            "Got 748 / 1000 correct (74.80)\n",
            "\n",
            "Iteration 400, loss = 0.7056\n",
            "Checking accuracy on validation set\n",
            "Got 739 / 1000 correct (73.90)\n",
            "\n",
            "Iteration 500, loss = 0.8517\n",
            "Checking accuracy on validation set\n",
            "Got 755 / 1000 correct (75.50)\n",
            "\n",
            "Iteration 600, loss = 0.7224\n",
            "Checking accuracy on validation set\n",
            "Got 738 / 1000 correct (73.80)\n",
            "\n",
            "Iteration 700, loss = 0.7701\n",
            "Checking accuracy on validation set\n",
            "Got 735 / 1000 correct (73.50)\n",
            "\n"
          ]
        }
      ],
      "source": [
        "################################################################################\n",
        "# TODO:                                                                        #\n",
        "# Experiment with any architectures, optimizers, and hyperparameters.          #\n",
        "# Achieve AT LEAST 70% accuracy on the *validation set* within 10 epochs.      #\n",
        "#                                                                              #\n",
        "# Note that you can use the check_accuracy function to evaluate on either      #\n",
        "# the test set or the validation set, by passing either loader_test or         #\n",
        "# loader_val as the second argument to check_accuracy. You should not touch    #\n",
        "# the test set until you have finished your architecture and  hyperparameter   #\n",
        "# tuning, and only run the test set once at the end to report a final value.   #\n",
        "################################################################################\n",
        "model = None\n",
        "optimizer = None\n",
        "\n",
        "# *****START OF YOUR CODE (DO NOT DELETE/MODIFY THIS LINE)*****\n",
        "\n",
        "# First model:\n",
        "# learning_rate = 0.001\n",
        "\n",
        "# model = nn.Sequential(\n",
        "#     nn.Conv2d(3, 64, 5, padding=2),\n",
        "#     nn.ReLU(),\n",
        "#     nn.Conv2d(64, 64, 5, padding=2),\n",
        "#     nn.ReLU(),\n",
        "#     nn.Conv2d(64, 16, 5, padding=2),\n",
        "#     nn.ReLU(),\n",
        "#     nn.BatchNorm2d(16),\n",
        "#     nn.Dropout(),\n",
        "#     Flatten(),\n",
        "#     nn.Linear(32*32*16, 100),\n",
        "#     nn.ReLU(),\n",
        "#     nn.Linear(100, 10)\n",
        "# )\n",
        "\n",
        "# optimizer = optim.Adam(model.parameters(), lr=learning_rate, weight_decay = 0.00001)\n",
        "\n",
        "\n",
        "# Best Model using VGG:\n",
        "# learning_rate = 0.001\n",
        "\n",
        "# model = nn.Sequential(\n",
        "#     nn.Conv2d(3, 16, 3, padding=1),\n",
        "#     nn.Conv2d(16, 16, 3, padding=1),\n",
        "#     nn.Conv2d(16, 16, 3, padding=1),\n",
        "#     nn.MaxPool2d(2, stride=2),\n",
        "#     nn.ReLU(),\n",
        "#     nn.BatchNorm2d(16),\n",
        "#     nn.Conv2d(16, 16, 3, padding=1),\n",
        "#     nn.Conv2d(16, 16, 3, padding=1),\n",
        "#     nn.Conv2d(16, 16, 3, padding=1),\n",
        "#     nn.MaxPool2d(2, stride=2),\n",
        "#     nn.ReLU(),\n",
        "#     nn.BatchNorm2d(16),\n",
        "#     nn.Dropout(),\n",
        "#     Flatten(),\n",
        "#     nn.Linear(8*8*16, 200),\n",
        "#     nn.ReLU(),\n",
        "#     nn.Linear(200, 10)\n",
        "# )\n",
        "\n",
        "# optimizer = optim.Adam(model.parameters(), lr=learning_rate, weight_decay = 0.00001)\n",
        "\n",
        "\n",
        "# Experimental stuff - not better\n",
        "learning_rate = 0.001\n",
        "\n",
        "model = nn.Sequential(\n",
        "    nn.Conv2d(3, 16, 3, padding=1),\n",
        "    nn.Conv2d(16, 16, 3, padding=1),\n",
        "    nn.Conv2d(16, 16, 3, padding=1),\n",
        "    nn.MaxPool2d(2, stride=2),\n",
        "    nn.ReLU(),\n",
        "    nn.BatchNorm2d(16),\n",
        "    nn.Conv2d(16, 8, 3, padding=1),\n",
        "    nn.Conv2d(8, 8, 3, padding=1),\n",
        "    nn.Conv2d(8, 8, 3, padding=1),\n",
        "    nn.MaxPool2d(2, stride=2),\n",
        "    nn.ReLU(),\n",
        "    nn.BatchNorm2d(8),\n",
        "    nn.Dropout(),\n",
        "    Flatten(),\n",
        "    nn.Linear(8*8*8, 200),\n",
        "    nn.ReLU(),\n",
        "    nn.Linear(200, 200),\n",
        "    nn.ReLU(),\n",
        "    nn.Linear(200, 10)\n",
        ")\n",
        "\n",
        "optimizer = optim.Adam(model.parameters(), lr=learning_rate, weight_decay = 0.00001)\n",
        "\n",
        "\n",
        "\n",
        "# *****END OF YOUR CODE (DO NOT DELETE/MODIFY THIS LINE)*****\n",
        "################################################################################\n",
        "#                                 END OF YOUR CODE                             #\n",
        "################################################################################\n",
        "\n",
        "# You should get at least 70% accuracy.\n",
        "# You may modify the number of epochs to any number below 15.\n",
        "train_part34(model, optimizer, epochs=10)"
      ]
    },
    {
      "cell_type": "markdown",
      "id": "bd2055f1",
      "metadata": {
        "tags": [
          "pdf-inline"
        ],
        "id": "bd2055f1"
      },
      "source": [
        "## Describe what you did\n",
        "\n",
        "In the cell below you should write an explanation of what you did, any additional features that you implemented, and/or any graphs that you made in the process of training and evaluating your network."
      ]
    },
    {
      "cell_type": "markdown",
      "id": "e41fb722",
      "metadata": {
        "tags": [
          "pdf-inline"
        ],
        "id": "e41fb722"
      },
      "source": [
        "**Answer:**\n",
        "\n",
        "For my first model, I added more convolution and affine layers, increased the amount of channels and the kernel sizes, used Adam and batchnorm to train better, and added some regularization and dropout to prevent overfitting.\n",
        "\n",
        "For my second model I implemented the VGG architecture and added more affine layers."
      ]
    },
    {
      "cell_type": "markdown",
      "id": "553b3d2d",
      "metadata": {
        "id": "553b3d2d"
      },
      "source": [
        "## Test set -- run this only once\n",
        "\n",
        "Now that we've gotten a result we're happy with, we test our final model on the test set (which you should store in best_model). Think about how this compares to your validation set accuracy."
      ]
    },
    {
      "cell_type": "code",
      "execution_count": null,
      "id": "6ab2cc23",
      "metadata": {
        "id": "6ab2cc23",
        "colab": {
          "base_uri": "https://localhost:8080/"
        },
        "outputId": "44dce063-a06a-4008-a582-2c9e7794eae0"
      },
      "outputs": [
        {
          "output_type": "stream",
          "name": "stdout",
          "text": [
            "Checking accuracy on test set\n",
            "Got 7602 / 10000 correct (76.02)\n"
          ]
        }
      ],
      "source": [
        "best_model = model\n",
        "check_accuracy_part34(loader_test, best_model)"
      ]
    },
    {
      "cell_type": "markdown",
      "source": [
        "#Save the Model\n"
      ],
      "metadata": {
        "id": "KFbruKqxlAEe"
      },
      "id": "KFbruKqxlAEe"
    },
    {
      "cell_type": "code",
      "source": [
        "!pip install dill\n",
        "import dill\n",
        "\n",
        "# First model: (DO NOT RUN)\n",
        "# save_path = \"/content/drive/MyDrive/Classroom/Machine Learning 2024-25 TUE + FRI Morn2/utsav_pytorch_naive.dill\"\n",
        "# with open(save_path, 'wb') as f:\n",
        "#   dill.dump(model,f)\n",
        "\n",
        "# Best Model\n",
        "save_path2 = \"/content/drive/MyDrive/Classroom/Machine Learning 2024-25 TUE + FRI Morn2/utsav_pytorch_best.dill\"\n",
        "with open(save_path2, 'wb') as f:\n",
        "   dill.dump(model,f)\n"
      ],
      "metadata": {
        "colab": {
          "base_uri": "https://localhost:8080/"
        },
        "id": "g_vy2cQSlEdp",
        "outputId": "faa6a942-e1dd-49c2-9ef5-6cabd6e99353"
      },
      "id": "g_vy2cQSlEdp",
      "execution_count": null,
      "outputs": [
        {
          "output_type": "stream",
          "name": "stdout",
          "text": [
            "Requirement already satisfied: dill in /usr/local/lib/python3.11/dist-packages (0.3.9)\n"
          ]
        }
      ]
    },
    {
      "cell_type": "markdown",
      "source": [
        "# Test Results"
      ],
      "metadata": {
        "id": "0_R_exLPFy3C"
      },
      "id": "0_R_exLPFy3C"
    },
    {
      "cell_type": "code",
      "source": [
        "!pip install dill\n",
        "import dill\n",
        "\n",
        "save_path = \"/content/drive/MyDrive/Classroom/Machine Learning 2024-25 TUE + FRI Morn2/utsav_pytorch_naive.dill\"\n",
        "save_path2 = \"/content/drive/MyDrive/Classroom/Machine Learning 2024-25 TUE + FRI Morn2/utsav_pytorch_best.dill\"\n",
        "\n",
        "print()\n",
        "print(\"First Model\")\n",
        "firstmodel = dill.load(open(save_path, \"rb\"))\n",
        "check_accuracy_part34(loader_test, firstmodel)\n",
        "print()\n",
        "print(\"VGG Model (Best)\")\n",
        "bestmodel = dill.load(open(save_path2, \"rb\"))\n",
        "check_accuracy_part34(loader_test, bestmodel)"
      ],
      "metadata": {
        "colab": {
          "base_uri": "https://localhost:8080/"
        },
        "id": "uxMYECAgmsj8",
        "outputId": "9b08dd1d-83bb-4fdd-eb81-181d77812700"
      },
      "id": "uxMYECAgmsj8",
      "execution_count": null,
      "outputs": [
        {
          "output_type": "stream",
          "name": "stdout",
          "text": [
            "Collecting dill\n",
            "  Downloading dill-0.3.9-py3-none-any.whl.metadata (10 kB)\n",
            "Downloading dill-0.3.9-py3-none-any.whl (119 kB)\n",
            "\u001b[?25l   \u001b[90m━━━━━━━━━━━━━━━━━━━━━━━━━━━━━━━━━━━━━━━━\u001b[0m \u001b[32m0.0/119.4 kB\u001b[0m \u001b[31m?\u001b[0m eta \u001b[36m-:--:--\u001b[0m\r\u001b[2K   \u001b[90m━━━━━━━━━━━━━━━━━━━━━━━━━━━━━━━━━━━━━━━━\u001b[0m \u001b[32m119.4/119.4 kB\u001b[0m \u001b[31m4.2 MB/s\u001b[0m eta \u001b[36m0:00:00\u001b[0m\n",
            "\u001b[?25hInstalling collected packages: dill\n",
            "Successfully installed dill-0.3.9\n",
            "\n",
            "First Model\n",
            "Checking accuracy on test set\n",
            "Got 7108 / 10000 correct (71.08)\n",
            "\n",
            "VGG Model (Best)\n",
            "Checking accuracy on test set\n",
            "Got 7602 / 10000 correct (76.02)\n"
          ]
        }
      ]
    },
    {
      "cell_type": "markdown",
      "source": [
        "# Confusion Matrix"
      ],
      "metadata": {
        "id": "qF_oc6CxF01V"
      },
      "id": "qF_oc6CxF01V"
    },
    {
      "cell_type": "code",
      "source": [
        "import matplotlib.pyplot as plt\n",
        "import torchvision as tv\n",
        "\n",
        "\n",
        "loader = loader_test\n",
        "bestmodel.eval()  # set model to evaluation mode\n",
        "confusion = np.zeros((10, 10))\n",
        "shown = False\n",
        "\n",
        "namelst = ('plane', 'car', 'bird', 'cat', 'deer', 'dog', 'frog', 'horse', 'ship', 'truck')\n",
        "\n",
        "imgshowlist = []\n",
        "\n",
        "with torch.no_grad():\n",
        "    for x, y in loader:\n",
        "        x = x.to(device=device, dtype=dtype)  # move to device, e.g. GPU\n",
        "        y = y.to(device=device, dtype=torch.long)\n",
        "        scores = bestmodel(x)\n",
        "        if not shown:\n",
        "          for i in range(10):\n",
        "            imgshowlist.append((x[i], y[i], scores[i]))\n",
        "            # rawimg = tv.utils.make_grid(x[i])\n",
        "\n",
        "            # # print(np.max(np.transpose(x[i].cpu().numpy(), (1,2,0))))\n",
        "            # plt.imshow(np.transpose(rawimg.cpu().numpy()/2+0.5, (1,2,0)))\n",
        "\n",
        "            # plt.show()\n",
        "\n",
        "            # print()\n",
        "            # print(\"Actual: \"+str(namelst[int(y[i])]))\n",
        "            # nscores = scores[i].cpu().numpy()\n",
        "            # probs = np.exp(nscores-np.max(nscores))\n",
        "            # probs = probs/np.sum(probs)\n",
        "            # print(\"Predicted: \"+str(namelst[np.argmax(probs)]))\n",
        "            # print()\n",
        "            # for j in range(10):\n",
        "            #   print(namelst[j]+\": \"+str(probs[j]))\n",
        "            # print()\n",
        "          shown = True\n",
        "        _, preds = scores.max(1)\n",
        "        for i in range(len(y)):\n",
        "          confusion[int(y[i]),int(preds[i])] += 1\n",
        "\n",
        "# fig, axes = plt.subplots(10, 10, figsize = (5, 5))\n",
        "# for i in range(10):\n",
        "#   for j in range(10):\n",
        "#     axes[i][j] = 0\n",
        "\n",
        "fig, ax = plt.subplots()\n",
        "im = ax.imshow(confusion)\n",
        "\n",
        "\n",
        "\n",
        "# Show all ticks and label them with the respective list entries\n",
        "ax.set_xticks(range(len(namelst)), labels=namelst,\n",
        "              rotation=45, ha=\"right\", rotation_mode=\"anchor\")\n",
        "ax.set_yticks(range(len(namelst)), labels=namelst)\n",
        "\n",
        "# Loop over data dimensions and create text annotations.\n",
        "for i in range(len(namelst)):\n",
        "    for j in range(len(namelst)):\n",
        "        text = ax.text(j, i, int(confusion[i, j]),\n",
        "                       ha=\"center\", va=\"center\", color=\"w\")\n",
        "\n",
        "ax.set_title(\"Actual(x) vs Predicted(y)\")\n",
        "fig.tight_layout()\n",
        "plt.show()\n",
        "\n",
        "for i in imgshowlist:\n",
        "  a = i[0]\n",
        "  b = i[1]\n",
        "  scores = i[2]\n",
        "  rawimg = tv.utils.make_grid(a)\n",
        "\n",
        "\n",
        "  plt.imshow(np.transpose(rawimg.cpu().numpy()/2+0.5, (1,2,0)))\n",
        "\n",
        "  plt.show()\n",
        "\n",
        "  print()\n",
        "  print(\"Actual: \"+str(namelst[int(b)]))\n",
        "  nscores = scores.cpu().numpy()\n",
        "  probs = np.exp(nscores-np.max(nscores))\n",
        "  probs = probs/np.sum(probs)\n",
        "  print(\"Predicted: \"+str(namelst[np.argmax(probs)])+\" \"+\"(\"+str(float(probs[np.argmax(probs)])*100)+\"%)\")\n",
        "  print()\n",
        "  for j in range(10):\n",
        "    print(namelst[j]+\": \"+str(probs[j]))\n",
        "  print()"
      ],
      "metadata": {
        "colab": {
          "base_uri": "https://localhost:8080/",
          "height": 1000
        },
        "id": "544CRtjXFWRh",
        "outputId": "22708988-3bd7-430c-dc58-2223e3581701"
      },
      "id": "544CRtjXFWRh",
      "execution_count": null,
      "outputs": [
        {
          "output_type": "display_data",
          "data": {
            "text/plain": [
              "<Figure size 640x480 with 1 Axes>"
            ],
            "image/png": "[encoded data removed]"
          },
          "metadata": {}
        },
        {
          "output_type": "stream",
          "name": "stderr",
          "text": [
            "WARNING:matplotlib.image:Clipping input data to the valid range for imshow with RGB data ([0..1] for floats or [0..255] for integers). Got range [-0.5885309..1.8476002].\n"
          ]
        },
        {
          "output_type": "display_data",
          "data": {
            "text/plain": [
              "<Figure size 640x480 with 1 Axes>"
            ],
            "image/png": "[encoded data removed]"
          },
          "metadata": {}
        },
        {
          "output_type": "stream",
          "name": "stderr",
          "text": [
            "WARNING:matplotlib.image:Clipping input data to the valid range for imshow with RGB data ([0..1] for floats or [0..255] for integers). Got range [-0.71453285..1.7988244].\n"
          ]
        },
        {
          "output_type": "stream",
          "name": "stdout",
          "text": [
            "\n",
            "Actual: cat\n",
            "Predicted: dog (56.36703968048096%)\n",
            "\n",
            "plane: 0.00050419575\n",
            "car: 0.00018051578\n",
            "bird: 0.0039412673\n",
            "cat: 0.39379027\n",
            "deer: 0.00053975586\n",
            "dog: 0.5636704\n",
            "frog: 0.03397699\n",
            "horse: 0.00031729764\n",
            "ship: 0.0014591698\n",
            "truck: 0.0016200638\n",
            "\n"
          ]
        },
        {
          "output_type": "display_data",
          "data": {
            "text/plain": [
              "<Figure size 640x480 with 1 Axes>"
            ],
            "image/png": "[encoded data removed]"
          },
          "metadata": {}
        },
        {
          "output_type": "stream",
          "name": "stderr",
          "text": [
            "WARNING:matplotlib.image:Clipping input data to the valid range for imshow with RGB data ([0..1] for floats or [0..255] for integers). Got range [-0.675763..1.8476002].\n"
          ]
        },
        {
          "output_type": "stream",
          "name": "stdout",
          "text": [
            "\n",
            "Actual: ship\n",
            "Predicted: ship (63.32598328590393%)\n",
            "\n",
            "plane: 0.004493414\n",
            "car: 0.36087218\n",
            "bird: 2.2228893e-05\n",
            "cat: 5.5584e-06\n",
            "deer: 3.8280896e-07\n",
            "dog: 2.2856473e-07\n",
            "frog: 1.687712e-06\n",
            "horse: 8.191055e-08\n",
            "ship: 0.63325983\n",
            "truck: 0.0013443814\n",
            "\n"
          ]
        },
        {
          "output_type": "display_data",
          "data": {
            "text/plain": [
              "<Figure size 640x480 with 1 Axes>"
            ],
            "image/png": "[encoded data removed]"
          },
          "metadata": {}
        },
        {
          "output_type": "stream",
          "name": "stderr",
          "text": [
            "WARNING:matplotlib.image:Clipping input data to the valid range for imshow with RGB data ([0..1] for floats or [0..255] for integers). Got range [-0.38462442..1.6720076].\n"
          ]
        },
        {
          "output_type": "stream",
          "name": "stdout",
          "text": [
            "\n",
            "Actual: ship\n",
            "Predicted: ship (92.7155613899231%)\n",
            "\n",
            "plane: 0.03640763\n",
            "car: 0.02059897\n",
            "bird: 0.0038785771\n",
            "cat: 0.0037082913\n",
            "deer: 0.00019327746\n",
            "dog: 9.472127e-05\n",
            "frog: 1.6843198e-05\n",
            "horse: 0.0004547946\n",
            "ship: 0.9271556\n",
            "truck: 0.007491294\n",
            "\n"
          ]
        },
        {
          "output_type": "display_data",
          "data": {
            "text/plain": [
              "<Figure size 640x480 with 1 Axes>"
            ],
            "image/png": "[encoded data removed]"
          },
          "metadata": {}
        },
        {
          "output_type": "stream",
          "name": "stderr",
          "text": [
            "WARNING:matplotlib.image:Clipping input data to the valid range for imshow with RGB data ([0..1] for floats or [0..255] for integers). Got range [-0.6466857..1.4542255].\n"
          ]
        },
        {
          "output_type": "stream",
          "name": "stdout",
          "text": [
            "\n",
            "Actual: plane\n",
            "Predicted: ship (53.934699296951294%)\n",
            "\n",
            "plane: 0.38902074\n",
            "car: 0.015089476\n",
            "bird: 0.005129959\n",
            "cat: 0.01745049\n",
            "deer: 0.018085262\n",
            "dog: 8.444932e-05\n",
            "frog: 3.7691218e-05\n",
            "horse: 0.0005354757\n",
            "ship: 0.539347\n",
            "truck: 0.015219463\n",
            "\n"
          ]
        },
        {
          "output_type": "display_data",
          "data": {
            "text/plain": [
              "<Figure size 640x480 with 1 Axes>"
            ],
            "image/png": "[encoded data removed]"
          },
          "metadata": {}
        },
        {
          "output_type": "stream",
          "name": "stderr",
          "text": [
            "WARNING:matplotlib.image:Clipping input data to the valid range for imshow with RGB data ([0..1] for floats or [0..255] for integers). Got range [-0.6697937..1.330576].\n"
          ]
        },
        {
          "output_type": "stream",
          "name": "stdout",
          "text": [
            "\n",
            "Actual: frog\n",
            "Predicted: frog (71.76939845085144%)\n",
            "\n",
            "plane: 5.419122e-05\n",
            "car: 0.019902587\n",
            "bird: 0.020425197\n",
            "cat: 0.041837193\n",
            "deer: 0.19785339\n",
            "dog: 0.0013014666\n",
            "frog: 0.717694\n",
            "horse: 0.00012859856\n",
            "ship: 0.00030001462\n",
            "truck: 0.00050333876\n",
            "\n"
          ]
        },
        {
          "output_type": "display_data",
          "data": {
            "text/plain": [
              "<Figure size 640x480 with 1 Axes>"
            ],
            "image/png": "[encoded data removed]"
          },
          "metadata": {}
        },
        {
          "output_type": "stream",
          "name": "stderr",
          "text": [
            "WARNING:matplotlib.image:Clipping input data to the valid range for imshow with RGB data ([0..1] for floats or [0..255] for integers). Got range [-0.7048404..1.8768656].\n"
          ]
        },
        {
          "output_type": "stream",
          "name": "stdout",
          "text": [
            "\n",
            "Actual: frog\n",
            "Predicted: frog (87.54305243492126%)\n",
            "\n",
            "plane: 7.6369935e-05\n",
            "car: 1.1359284e-05\n",
            "bird: 0.007347953\n",
            "cat: 0.03503591\n",
            "deer: 0.009088303\n",
            "dog: 0.07267814\n",
            "frog: 0.8754305\n",
            "horse: 0.00021822809\n",
            "ship: 5.896135e-05\n",
            "truck: 5.430034e-05\n",
            "\n"
          ]
        },
        {
          "output_type": "display_data",
          "data": {
            "text/plain": [
              "<Figure size 640x480 with 1 Axes>"
            ],
            "image/png": "[encoded data removed]"
          },
          "metadata": {}
        },
        {
          "output_type": "stream",
          "name": "stderr",
          "text": [
            "WARNING:matplotlib.image:Clipping input data to the valid range for imshow with RGB data ([0..1] for floats or [0..255] for integers). Got range [-0.5229002..1.8573554].\n"
          ]
        },
        {
          "output_type": "stream",
          "name": "stdout",
          "text": [
            "\n",
            "Actual: car\n",
            "Predicted: cat (80.05232810974121%)\n",
            "\n",
            "plane: 0.0024385282\n",
            "car: 0.06111428\n",
            "bird: 0.0028227975\n",
            "cat: 0.8005233\n",
            "deer: 0.0018669005\n",
            "dog: 0.08038005\n",
            "frog: 0.019078398\n",
            "horse: 0.013309704\n",
            "ship: 0.0002225725\n",
            "truck: 0.01824353\n",
            "\n"
          ]
        },
        {
          "output_type": "display_data",
          "data": {
            "text/plain": [
              "<Figure size 640x480 with 1 Axes>"
            ],
            "image/png": "[encoded data removed]"
          },
          "metadata": {}
        },
        {
          "output_type": "stream",
          "name": "stderr",
          "text": [
            "WARNING:matplotlib.image:Clipping input data to the valid range for imshow with RGB data ([0..1] for floats or [0..255] for integers). Got range [-0.5517926..1.7590615].\n"
          ]
        },
        {
          "output_type": "stream",
          "name": "stdout",
          "text": [
            "\n",
            "Actual: frog\n",
            "Predicted: frog (68.34304928779602%)\n",
            "\n",
            "plane: 0.00442765\n",
            "car: 0.00054554065\n",
            "bird: 0.11470439\n",
            "cat: 0.028703658\n",
            "deer: 0.14115743\n",
            "dog: 0.008359028\n",
            "frog: 0.6834305\n",
            "horse: 0.014939212\n",
            "ship: 0.00083151116\n",
            "truck: 0.0029010524\n",
            "\n"
          ]
        },
        {
          "output_type": "display_data",
          "data": {
            "text/plain": [
              "<Figure size 640x480 with 1 Axes>"
            ],
            "image/png": "[encoded data removed]"
          },
          "metadata": {}
        },
        {
          "output_type": "stream",
          "name": "stderr",
          "text": [
            "WARNING:matplotlib.image:Clipping input data to the valid range for imshow with RGB data ([0..1] for floats or [0..255] for integers). Got range [-0.51245904..1.8378451].\n"
          ]
        },
        {
          "output_type": "stream",
          "name": "stdout",
          "text": [
            "\n",
            "Actual: cat\n",
            "Predicted: cat (75.01895427703857%)\n",
            "\n",
            "plane: 0.0002614885\n",
            "car: 2.282231e-06\n",
            "bird: 0.040438574\n",
            "cat: 0.75018954\n",
            "deer: 0.054864626\n",
            "dog: 0.07969404\n",
            "frog: 0.07349305\n",
            "horse: 0.0010318662\n",
            "ship: 3.3041529e-06\n",
            "truck: 2.1299968e-05\n",
            "\n"
          ]
        },
        {
          "output_type": "display_data",
          "data": {
            "text/plain": [
              "<Figure size 640x480 with 1 Axes>"
            ],
            "image/png": "[encoded data removed]"
          },
          "metadata": {}
        },
        {
          "output_type": "stream",
          "name": "stdout",
          "text": [
            "\n",
            "Actual: car\n",
            "Predicted: truck (92.08046793937683%)\n",
            "\n",
            "plane: 0.000360869\n",
            "car: 0.073914185\n",
            "bird: 5.7948578e-06\n",
            "cat: 6.2206964e-05\n",
            "deer: 1.089994e-05\n",
            "dog: 1.1832354e-06\n",
            "frog: 4.252826e-06\n",
            "horse: 2.2782056e-07\n",
            "ship: 0.004835651\n",
            "truck: 0.9208047\n",
            "\n"
          ]
        }
      ]
    },
    {
      "cell_type": "markdown",
      "source": [
        "# Reflection\n",
        "\n",
        "Image Display Code - https://jamesmccaffrey.wordpress.com/2020/08/07/displaying-cifar-10-images-using-pytorch/\n",
        "\n",
        "Heatmap - https://matplotlib.org/stable/gallery/images_contours_and_fields/image_annotated_heatmap.html\n"
      ],
      "metadata": {
        "id": "5DV7zYQDPucJ"
      },
      "id": "5DV7zYQDPucJ"
    }
  ],
  "metadata": {
    "colab": {
      "provenance": [],
      "gpuType": "T4"
    },
    "language_info": {
      "name": "python"
    },
    "kernelspec": {
      "name": "python3",
      "display_name": "Python 3"
    },
    "accelerator": "GPU"
  },
  "nbformat": 4,
  "nbformat_minor": 5
}